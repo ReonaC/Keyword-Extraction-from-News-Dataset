{
 "cells": [
  {
   "cell_type": "code",
   "execution_count": 11,
   "metadata": {
    "_cell_guid": "00bd9f7c-26b4-4b2b-b55c-a3ec83383dce",
    "_uuid": "a3c9d2c135dd47015774cb3892808e603de0614a",
    "collapsed": true
   },
   "outputs": [],
   "source": [
    "from IPython.core.display import display\n",
    "\n",
    "import numpy as np\n",
    "import pandas as pd\n",
    "import matplotlib.pyplot as plt\n",
    "\n",
    "from sklearn.svm import LinearSVC\n",
    "from sklearn.feature_extraction.text import TfidfVectorizer\n",
    "from sklearn.model_selection import train_test_split\n",
    "from sklearn.metrics import confusion_matrix, classification_report"
   ]
  },
  {
   "cell_type": "markdown",
   "metadata": {
    "_cell_guid": "17d16915-1f4b-45b8-be6f-7b1ea820fa4e",
    "_uuid": "733a758d7d17159aee8a70162ba28efaadd3b80c"
   },
   "source": [
    "# 1. Read data"
   ]
  },
  {
   "cell_type": "markdown",
   "metadata": {
    "_cell_guid": "a845d2ae-ec64-4df4-a54e-af9ded0ece46",
    "_uuid": "40d2c0ad603eadce36372cdd5fd23f4344502aca"
   },
   "source": [
    " Reading the data and selecting right columns."
   ]
  },
  {
   "cell_type": "code",
   "execution_count": 12,
   "metadata": {
    "_cell_guid": "131e25cd-c48c-4708-9777-01b6a743e634",
    "_uuid": "1ce4d17033d3f979e9d53c408a4ea514d71be3e3"
   },
   "outputs": [
    {
     "data": {
      "text/html": [
       "<div>\n",
       "<style>\n",
       "    .dataframe thead tr:only-child th {\n",
       "        text-align: right;\n",
       "    }\n",
       "\n",
       "    .dataframe thead th {\n",
       "        text-align: left;\n",
       "    }\n",
       "\n",
       "    .dataframe tbody tr th {\n",
       "        vertical-align: top;\n",
       "    }\n",
       "</style>\n",
       "<table border=\"1\" class=\"dataframe\">\n",
       "  <thead>\n",
       "    <tr style=\"text-align: right;\">\n",
       "      <th></th>\n",
       "      <th>ID</th>\n",
       "      <th>TITLE</th>\n",
       "      <th>URL</th>\n",
       "      <th>PUBLISHER</th>\n",
       "      <th>CATEGORY</th>\n",
       "      <th>STORY</th>\n",
       "      <th>HOSTNAME</th>\n",
       "      <th>TIMESTAMP</th>\n",
       "    </tr>\n",
       "  </thead>\n",
       "  <tbody>\n",
       "    <tr>\n",
       "      <th>0</th>\n",
       "      <td>1</td>\n",
       "      <td>Fed official says weak data caused by weather,...</td>\n",
       "      <td>http://www.latimes.com/business/money/la-fi-mo...</td>\n",
       "      <td>Los Angeles Times</td>\n",
       "      <td>b</td>\n",
       "      <td>ddUyU0VZz0BRneMioxUPQVP6sIxvM</td>\n",
       "      <td>www.latimes.com</td>\n",
       "      <td>1.394470e+12</td>\n",
       "    </tr>\n",
       "    <tr>\n",
       "      <th>1</th>\n",
       "      <td>2</td>\n",
       "      <td>Fed's Charles Plosser sees high bar for change...</td>\n",
       "      <td>http://www.livemint.com/Politics/H2EvwJSK2VE6O...</td>\n",
       "      <td>Livemint</td>\n",
       "      <td>b</td>\n",
       "      <td>ddUyU0VZz0BRneMioxUPQVP6sIxvM</td>\n",
       "      <td>www.livemint.com</td>\n",
       "      <td>1.394470e+12</td>\n",
       "    </tr>\n",
       "    <tr>\n",
       "      <th>2</th>\n",
       "      <td>3</td>\n",
       "      <td>US open: Stocks fall after Fed official hints ...</td>\n",
       "      <td>http://www.ifamagazine.com/news/us-open-stocks...</td>\n",
       "      <td>IFA Magazine</td>\n",
       "      <td>b</td>\n",
       "      <td>ddUyU0VZz0BRneMioxUPQVP6sIxvM</td>\n",
       "      <td>www.ifamagazine.com</td>\n",
       "      <td>1.394470e+12</td>\n",
       "    </tr>\n",
       "    <tr>\n",
       "      <th>3</th>\n",
       "      <td>4</td>\n",
       "      <td>Fed risks falling 'behind the curve', Charles ...</td>\n",
       "      <td>http://www.ifamagazine.com/news/fed-risks-fall...</td>\n",
       "      <td>IFA Magazine</td>\n",
       "      <td>b</td>\n",
       "      <td>ddUyU0VZz0BRneMioxUPQVP6sIxvM</td>\n",
       "      <td>www.ifamagazine.com</td>\n",
       "      <td>1.394470e+12</td>\n",
       "    </tr>\n",
       "    <tr>\n",
       "      <th>4</th>\n",
       "      <td>5</td>\n",
       "      <td>Fed's Plosser: Nasty Weather Has Curbed Job Gr...</td>\n",
       "      <td>http://www.moneynews.com/Economy/federal-reser...</td>\n",
       "      <td>Moneynews</td>\n",
       "      <td>b</td>\n",
       "      <td>ddUyU0VZz0BRneMioxUPQVP6sIxvM</td>\n",
       "      <td>www.moneynews.com</td>\n",
       "      <td>1.394470e+12</td>\n",
       "    </tr>\n",
       "  </tbody>\n",
       "</table>\n",
       "</div>"
      ],
      "text/plain": [
       "   ID                                              TITLE  \\\n",
       "0   1  Fed official says weak data caused by weather,...   \n",
       "1   2  Fed's Charles Plosser sees high bar for change...   \n",
       "2   3  US open: Stocks fall after Fed official hints ...   \n",
       "3   4  Fed risks falling 'behind the curve', Charles ...   \n",
       "4   5  Fed's Plosser: Nasty Weather Has Curbed Job Gr...   \n",
       "\n",
       "                                                 URL          PUBLISHER  \\\n",
       "0  http://www.latimes.com/business/money/la-fi-mo...  Los Angeles Times   \n",
       "1  http://www.livemint.com/Politics/H2EvwJSK2VE6O...           Livemint   \n",
       "2  http://www.ifamagazine.com/news/us-open-stocks...       IFA Magazine   \n",
       "3  http://www.ifamagazine.com/news/fed-risks-fall...       IFA Magazine   \n",
       "4  http://www.moneynews.com/Economy/federal-reser...          Moneynews   \n",
       "\n",
       "  CATEGORY                          STORY             HOSTNAME     TIMESTAMP  \n",
       "0        b  ddUyU0VZz0BRneMioxUPQVP6sIxvM      www.latimes.com  1.394470e+12  \n",
       "1        b  ddUyU0VZz0BRneMioxUPQVP6sIxvM     www.livemint.com  1.394470e+12  \n",
       "2        b  ddUyU0VZz0BRneMioxUPQVP6sIxvM  www.ifamagazine.com  1.394470e+12  \n",
       "3        b  ddUyU0VZz0BRneMioxUPQVP6sIxvM  www.ifamagazine.com  1.394470e+12  \n",
       "4        b  ddUyU0VZz0BRneMioxUPQVP6sIxvM    www.moneynews.com  1.394470e+12  "
      ]
     },
     "execution_count": 12,
     "metadata": {},
     "output_type": "execute_result"
    }
   ],
   "source": [
    "data = pd.read_csv(\"C:/Users/Admin/Desktop/Machine Learning/News-aggregator.csv\")\n",
    "data.head()"
   ]
  },
  {
   "cell_type": "code",
   "execution_count": 20,
   "metadata": {
    "_cell_guid": "da74a4a4-b7c1-4b18-a70f-117ac2140e89",
    "_uuid": "76de24b5a2199d03e34af6ec69f020dd8956bab7"
   },
   "outputs": [],
   "source": [
    "X_raw, y = data['TITLE'], data['CATEGORY']"
   ]
  },
  {
   "cell_type": "code",
   "execution_count": 14,
   "metadata": {
    "_cell_guid": "55690878-9f0d-40a7-af56-036ad70e2c79",
    "_uuid": "3a052d93e04b5063ba54a38735a8a5f01c3af95c"
   },
   "outputs": [
    {
     "data": {
      "image/png": "[encoded data removed]",
      "text/plain": [
       "<matplotlib.figure.Figure at 0x275ae450>"
      ]
     },
     "metadata": {},
     "output_type": "display_data"
    }
   ],
   "source": [
    "value_counts = dict(y.value_counts())\n",
    "targets_labels = value_counts.keys()\n",
    "ind = range(len(targets_labels))\n",
    "plt.bar(ind, value_counts.values())\n",
    "plt.title(\"Categories count\")\n",
    "plt.xticks(ind, targets_labels)\n",
    "plt.show()"
   ]
  },
  {
   "cell_type": "markdown",
   "metadata": {
    "_cell_guid": "7a66da65-c5b3-491e-965a-a8177910b75f",
    "_uuid": "a36deda1a0c9bcd2e6177f7c7c8c82c6ada5fe26"
   },
   "source": [
    "# 2. Prepare data"
   ]
  },
  {
   "cell_type": "markdown",
   "metadata": {
    "_cell_guid": "87ad2483-13a3-4e99-b270-e62533cc9d22",
    "_uuid": "c7d31680ba2e0cba65867c664f3de21355fc7fcb"
   },
   "source": [
    "## 2.1. Vectorizing the data"
   ]
  },
  {
   "cell_type": "markdown",
   "metadata": {
    "_cell_guid": "b82f5981-57ac-4afb-be62-ba26bfaba5c9",
    "_uuid": "bb7d3cdf106e575d908c285b7764aa4d7ad5f789"
   },
   "source": [
    "We use a vector representation of documents (called a \"bag of words\" model). The document is represented in the form of a vector, whose dimension is equal to the number of all available words. Each word corresponds to one dimension, if the word is present in the document, the vector has a corresponding value on that dimension.\n",
    "In the basic implementation, this is the number of occurrences of a given word in a document (CountVectorizer in sklearn).\n",
    "Below I am using an enhanced version of this model (TfidfVectorizer) which, thanks to the TF-IDF factor, also takes into account the relevance of the word. This factor is based on the assumption that the words appearing in many different documents are less important than those that appear in fewer numbers."
   ]
  },
  {
   "cell_type": "code",
   "execution_count": 15,
   "metadata": {
    "_cell_guid": "cafff791-c35b-46e4-b830-1064aca86d1c",
    "_uuid": "21dfe4b74b2b9b09434c0a324883fc584c32ed07",
    "collapsed": true
   },
   "outputs": [],
   "source": [
    "vectorizer = TfidfVectorizer(stop_words='english')\n",
    "X = vectorizer.fit_transform(X_raw)"
   ]
  },
  {
   "cell_type": "markdown",
   "metadata": {
    "_cell_guid": "6557c358-36f3-4d7d-bfd0-dd7a0308557b",
    "_uuid": "d1defe08361fe92ad2c24e99ce65ed257e703ce5"
   },
   "source": [
    "## 2.1. Spliting data into training and test set"
   ]
  },
  {
   "cell_type": "code",
   "execution_count": 21,
   "metadata": {
    "_cell_guid": "bf348124-2719-4d04-a0ee-a70fa01831ec",
    "_uuid": "1a10e194bf12bbbb8d2b97a1fb5e8ff551d5d66e"
   },
   "outputs": [
    {
     "data": {
      "text/plain": [
       "280241    e\n",
       "96315     b\n",
       "280410    e\n",
       "284975    e\n",
       "379072    m\n",
       "233281    e\n",
       "77308     t\n",
       "363221    e\n",
       "247498    b\n",
       "176734    t\n",
       "235116    t\n",
       "108461    t\n",
       "209936    e\n",
       "200980    t\n",
       "300052    e\n",
       "337562    e\n",
       "11323     e\n",
       "315686    t\n",
       "270249    e\n",
       "368705    e\n",
       "152987    t\n",
       "278766    e\n",
       "341785    e\n",
       "302113    b\n",
       "118161    e\n",
       "360910    e\n",
       "262103    m\n",
       "183295    e\n",
       "211197    m\n",
       "291065    t\n",
       "         ..\n",
       "200316    b\n",
       "364482    t\n",
       "134350    e\n",
       "39773     e\n",
       "48615     t\n",
       "401014    b\n",
       "177873    e\n",
       "145303    e\n",
       "222185    e\n",
       "145499    e\n",
       "313888    m\n",
       "285312    m\n",
       "23703     m\n",
       "104454    m\n",
       "413873    t\n",
       "182463    e\n",
       "303683    e\n",
       "88344     t\n",
       "341194    t\n",
       "66142     b\n",
       "129864    e\n",
       "104787    b\n",
       "125320    t\n",
       "358529    e\n",
       "388292    t\n",
       "341890    e\n",
       "381669    e\n",
       "381161    e\n",
       "354773    e\n",
       "349255    b\n",
       "Name: CATEGORY, Length: 105605, dtype: object"
      ]
     },
     "execution_count": 21,
     "metadata": {},
     "output_type": "execute_result"
    }
   ],
   "source": [
    "X_train, X_test, y_train, y_test = train_test_split(X, y, test_size=0.25, random_state=42)\n",
    "y_test"
   ]
  },
  {
   "cell_type": "markdown",
   "metadata": {
    "_cell_guid": "f81dce23-5f72-40b3-ba9e-24db881fd5e4",
    "_uuid": "431ef141d957404d6203bc1070fc158fc07353f4",
    "collapsed": true
   },
   "source": [
    "# 3. Training model"
   ]
  },
  {
   "cell_type": "markdown",
   "metadata": {
    "_cell_guid": "c0c780cc-06cb-47cc-9f38-5a7fab53c10b",
    "_uuid": "aae1eec723503998d54e8815d695df5515d3aef2"
   },
   "source": [
    "I'm using LinearSVC with is a Support Vector Classification model with linear kernel. I've tried using other kernels, but it takes to long to train, while this still gives a sufficient results. Suppor Vector Machines algorithms works well with high dimension data (like text documents).\n",
    "\n",
    "We could have use any other popular, classification algorithm like LogisticRegression, RandomForest, GaussianNaiveBayer or MultipleLayerPerceptron. Or even a deep learning alogrithm, e.g. CNN with word embedding layer tends to get really good results for text classification."
   ]
  },
  {
   "cell_type": "code",
   "execution_count": 7,
   "metadata": {
    "_cell_guid": "84c214a0-6e56-4a24-8721-57e63d3cfca3",
    "_uuid": "968ab35a82609aabf0af39c69a12ce937737c9af"
   },
   "outputs": [
    {
     "data": {
      "text/plain": [
       "LinearSVC(C=1.0, class_weight=None, dual=True, fit_intercept=True,\n",
       "     intercept_scaling=1, loss='squared_hinge', max_iter=1000,\n",
       "     multi_class='ovr', penalty='l2', random_state=None, tol=0.0001,\n",
       "     verbose=0)"
      ]
     },
     "execution_count": 7,
     "metadata": {},
     "output_type": "execute_result"
    }
   ],
   "source": [
    "clf = LinearSVC()\n",
    "clf.fit(X_train, y_train)"
   ]
  },
  {
   "cell_type": "markdown",
   "metadata": {
    "_cell_guid": "4b9f2999-921e-4ff9-8ecb-49012d58cf28",
    "_uuid": "ff641dbfd241dd5806609c710c5621b2118d3e52",
    "collapsed": true
   },
   "source": [
    "# 4. Results"
   ]
  },
  {
   "cell_type": "markdown",
   "metadata": {
    "_cell_guid": "f43e252a-5108-442e-8c78-07e5daea6485",
    "_uuid": "31ae59e170d60e82f7f2067c640893edbdafd948",
    "collapsed": true
   },
   "source": [
    "## 4.1. Classification metrics"
   ]
  },
  {
   "cell_type": "code",
   "execution_count": 8,
   "metadata": {
    "_cell_guid": "e9ecc3b7-80aa-41f7-8a26-b2cae0dfc10f",
    "_uuid": "7718db72b66ae7907c8e06957c6f5c6010805ef0",
    "collapsed": true
   },
   "outputs": [],
   "source": [
    "y_pred = clf.predict(X_test)"
   ]
  },
  {
   "cell_type": "code",
   "execution_count": 9,
   "metadata": {
    "_cell_guid": "61b26f2f-77f5-47be-8f00-c9ddceb9745b",
    "_uuid": "7fdbd3ce51e22675b4067d89cfa39aea4321b72e"
   },
   "outputs": [
    {
     "name": "stdout",
     "output_type": "stream",
     "text": [
      "             precision    recall  f1-score   support\n",
      "\n",
      "          b       0.93      0.94      0.93     29117\n",
      "          e       0.98      0.98      0.98     37988\n",
      "          m       0.96      0.94      0.95     11319\n",
      "          t       0.93      0.93      0.93     27181\n",
      "\n",
      "avg / total       0.95      0.95      0.95    105605\n",
      "\n"
     ]
    }
   ],
   "source": [
    "print (classification_report(y_test, y_pred))"
   ]
  },
  {
   "cell_type": "markdown",
   "metadata": {
    "_cell_guid": "ad52b59e-a4b8-41ad-8472-d0710db51f0f",
    "_uuid": "9bafd8c531aaf7db7ba32fcd37f61302b4a6c458"
   },
   "source": [
    "## 4.2. Confusion matrix"
   ]
  },
  {
   "cell_type": "code",
   "execution_count": 10,
   "metadata": {
    "_cell_guid": "5e441466-b062-454b-ac15-ef7006373dc8",
    "_uuid": "4897e7924d233c9b64bdc3d2fb5304ee2279c2d0"
   },
   "outputs": [
    {
     "data": {
      "image/png": "[encoded data removed]",
      "text/plain": [
       "<matplotlib.figure.Figure at 0xbc4e550>"
      ]
     },
     "metadata": {},
     "output_type": "display_data"
    }
   ],
   "source": [
    "def plot_confusion_matrix(y_true, y_pred, targets_labels=None):\n",
    "    targets_labels = list(targets_labels)\n",
    "    if not targets_labels:\n",
    "        targets_labels = list(set(y_true))\n",
    "    num_classes = len(targets_labels)\n",
    "    cdata = confusion_matrix(y_true, y_pred, labels=targets_labels)\n",
    "    cdata = cdata / cdata.sum(axis=1).astype(float)\n",
    "    heatmap = plt.pcolor(cdata, cmap=\"PuBu\")\n",
    "    plt.title(\"Confusion matrix\")\n",
    "    plt.colorbar(heatmap)\n",
    "    for y in range(cdata.shape[0]):\n",
    "        for x in range(cdata.shape[1]):\n",
    "            plt.text(x + 0.5, y + 0.5, '{0:.2f}%'.format((cdata[y, x] * 100)),\n",
    "                     horizontalalignment='center',\n",
    "                     verticalalignment='center',\n",
    "                     )\n",
    "\n",
    "    tick_marks = np.arange(num_classes) + 0.5\n",
    "    plt.xticks(tick_marks, targets_labels)\n",
    "    plt.yticks(tick_marks, targets_labels)\n",
    "    plt.show()\n",
    "    \n",
    "plot_confusion_matrix(y_test, y_pred, targets_labels)"
   ]
  },
  {
   "cell_type": "markdown",
   "metadata": {
    "_cell_guid": "828a30c1-9810-4933-90b3-97f84592a101",
    "_uuid": "303699882928520f1bb36471e26260c4b2539053"
   },
   "source": []
  },
  {
   "cell_type": "code",
   "execution_count": null,
   "metadata": {
    "collapsed": true
   },
   "outputs": [],
   "source": []
  }
 ],
 "metadata": {
  "kernelspec": {
   "display_name": "Python 3",
   "language": "python",
   "name": "python3"
  },
  "language_info": {
   "codemirror_mode": {
    "name": "ipython",
    "version": 3
   },
   "file_extension": ".py",
   "mimetype": "text/x-python",
   "name": "python",
   "nbconvert_exporter": "python",
   "pygments_lexer": "ipython3",
   "version": "3.6.3"
  }
 },
 "nbformat": 4,
 "nbformat_minor": 1
}
