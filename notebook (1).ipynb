{
 "cells": [
  {
   "cell_type": "markdown",
   "metadata": {
    "_cell_guid": "8eac5409-aa5c-4578-a111-2bf8ce7dcee8",
    "_uuid": "7875d7f60e5e2891d03ae02bc19605a749d87855"
   },
   "source": [
    "# News clustering with uci-news-aggregator.csv\n"
   ]
  },
  {
   "cell_type": "code",
   "execution_count": 1,
   "metadata": {
    "_cell_guid": "8c69e9a4-de65-a0eb-dbe8-081d70679e13",
    "_uuid": "27b728d237a2d93cd7462538a823429146287416",
    "collapsed": true
   },
   "outputs": [],
   "source": [
    "%matplotlib inline\n",
    "%config InlineBackend.figure_format = 'retina'\n",
    "\n",
    "import pandas as pd\n",
    "import numpy as np\n",
    "import matplotlib.pyplot as plt\n",
    "\n",
    "from sklearn.svm import LinearSVC\n",
    "from sklearn.feature_extraction.text import TfidfVectorizer\n",
    "from sklearn.model_selection import train_test_split\n",
    "from sklearn.metrics import confusion_matrix, classification_report\n",
    "from sklearn.metrics import accuracy_score\n"
   ]
  },
  {
   "cell_type": "markdown",
   "metadata": {
    "_cell_guid": "00da9dcc-b79a-4ce6-9fe5-42befd3e0e93",
    "_uuid": "c782953814f919297557d053b8d6888159b89a17"
   },
   "source": [
    "Read dataset and show the first 5 lines"
   ]
  },
  {
   "cell_type": "code",
   "execution_count": 2,
   "metadata": {
    "_cell_guid": "b761c81a-b974-07bb-1134-abd5067cb9b7",
    "_uuid": "de90e544db1c5adb5b25a1e4503820fb5d48e0b0"
   },
   "outputs": [
    {
     "data": {
      "text/html": [
       "<div>\n",
       "<style>\n",
       "    .dataframe thead tr:only-child th {\n",
       "        text-align: right;\n",
       "    }\n",
       "\n",
       "    .dataframe thead th {\n",
       "        text-align: left;\n",
       "    }\n",
       "\n",
       "    .dataframe tbody tr th {\n",
       "        vertical-align: top;\n",
       "    }\n",
       "</style>\n",
       "<table border=\"1\" class=\"dataframe\">\n",
       "  <thead>\n",
       "    <tr style=\"text-align: right;\">\n",
       "      <th></th>\n",
       "      <th>ID</th>\n",
       "      <th>TITLE</th>\n",
       "      <th>URL</th>\n",
       "      <th>PUBLISHER</th>\n",
       "      <th>CATEGORY</th>\n",
       "      <th>STORY</th>\n",
       "      <th>HOSTNAME</th>\n",
       "      <th>TIMESTAMP</th>\n",
       "    </tr>\n",
       "  </thead>\n",
       "  <tbody>\n",
       "    <tr>\n",
       "      <th>0</th>\n",
       "      <td>1</td>\n",
       "      <td>Fed official says weak data caused by weather,...</td>\n",
       "      <td>http://www.latimes.com/business/money/la-fi-mo...</td>\n",
       "      <td>Los Angeles Times</td>\n",
       "      <td>b</td>\n",
       "      <td>ddUyU0VZz0BRneMioxUPQVP6sIxvM</td>\n",
       "      <td>www.latimes.com</td>\n",
       "      <td>1.394470e+12</td>\n",
       "    </tr>\n",
       "    <tr>\n",
       "      <th>1</th>\n",
       "      <td>2</td>\n",
       "      <td>Fed's Charles Plosser sees high bar for change...</td>\n",
       "      <td>http://www.livemint.com/Politics/H2EvwJSK2VE6O...</td>\n",
       "      <td>Livemint</td>\n",
       "      <td>b</td>\n",
       "      <td>ddUyU0VZz0BRneMioxUPQVP6sIxvM</td>\n",
       "      <td>www.livemint.com</td>\n",
       "      <td>1.394470e+12</td>\n",
       "    </tr>\n",
       "    <tr>\n",
       "      <th>2</th>\n",
       "      <td>3</td>\n",
       "      <td>US open: Stocks fall after Fed official hints ...</td>\n",
       "      <td>http://www.ifamagazine.com/news/us-open-stocks...</td>\n",
       "      <td>IFA Magazine</td>\n",
       "      <td>b</td>\n",
       "      <td>ddUyU0VZz0BRneMioxUPQVP6sIxvM</td>\n",
       "      <td>www.ifamagazine.com</td>\n",
       "      <td>1.394470e+12</td>\n",
       "    </tr>\n",
       "    <tr>\n",
       "      <th>3</th>\n",
       "      <td>4</td>\n",
       "      <td>Fed risks falling 'behind the curve', Charles ...</td>\n",
       "      <td>http://www.ifamagazine.com/news/fed-risks-fall...</td>\n",
       "      <td>IFA Magazine</td>\n",
       "      <td>b</td>\n",
       "      <td>ddUyU0VZz0BRneMioxUPQVP6sIxvM</td>\n",
       "      <td>www.ifamagazine.com</td>\n",
       "      <td>1.394470e+12</td>\n",
       "    </tr>\n",
       "    <tr>\n",
       "      <th>4</th>\n",
       "      <td>5</td>\n",
       "      <td>Fed's Plosser: Nasty Weather Has Curbed Job Gr...</td>\n",
       "      <td>http://www.moneynews.com/Economy/federal-reser...</td>\n",
       "      <td>Moneynews</td>\n",
       "      <td>b</td>\n",
       "      <td>ddUyU0VZz0BRneMioxUPQVP6sIxvM</td>\n",
       "      <td>www.moneynews.com</td>\n",
       "      <td>1.394470e+12</td>\n",
       "    </tr>\n",
       "  </tbody>\n",
       "</table>\n",
       "</div>"
      ],
      "text/plain": [
       "   ID                                              TITLE  \\\n",
       "0   1  Fed official says weak data caused by weather,...   \n",
       "1   2  Fed's Charles Plosser sees high bar for change...   \n",
       "2   3  US open: Stocks fall after Fed official hints ...   \n",
       "3   4  Fed risks falling 'behind the curve', Charles ...   \n",
       "4   5  Fed's Plosser: Nasty Weather Has Curbed Job Gr...   \n",
       "\n",
       "                                                 URL          PUBLISHER  \\\n",
       "0  http://www.latimes.com/business/money/la-fi-mo...  Los Angeles Times   \n",
       "1  http://www.livemint.com/Politics/H2EvwJSK2VE6O...           Livemint   \n",
       "2  http://www.ifamagazine.com/news/us-open-stocks...       IFA Magazine   \n",
       "3  http://www.ifamagazine.com/news/fed-risks-fall...       IFA Magazine   \n",
       "4  http://www.moneynews.com/Economy/federal-reser...          Moneynews   \n",
       "\n",
       "  CATEGORY                          STORY             HOSTNAME     TIMESTAMP  \n",
       "0        b  ddUyU0VZz0BRneMioxUPQVP6sIxvM      www.latimes.com  1.394470e+12  \n",
       "1        b  ddUyU0VZz0BRneMioxUPQVP6sIxvM     www.livemint.com  1.394470e+12  \n",
       "2        b  ddUyU0VZz0BRneMioxUPQVP6sIxvM  www.ifamagazine.com  1.394470e+12  \n",
       "3        b  ddUyU0VZz0BRneMioxUPQVP6sIxvM  www.ifamagazine.com  1.394470e+12  \n",
       "4        b  ddUyU0VZz0BRneMioxUPQVP6sIxvM    www.moneynews.com  1.394470e+12  "
      ]
     },
     "execution_count": 2,
     "metadata": {},
     "output_type": "execute_result"
    }
   ],
   "source": [
    "dataset = pd.read_csv(\"C:/Users/Admin/Desktop/Machine Learning/News-aggregator.csv\",nrows=10000)\n",
    "dataset.head()"
   ]
  },
  {
   "cell_type": "code",
   "execution_count": 3,
   "metadata": {
    "_cell_guid": "1a00a315-6a3d-4d48-8296-75fb82dfd824",
    "_uuid": "b8cac0b26911b4254d77de824e75ef77c508c2e1"
   },
   "outputs": [
    {
     "data": {
      "image/png": "[encoded data removed]",
      "text/plain": [
       "<matplotlib.figure.Figure at 0x6848510>"
      ]
     },
     "metadata": {
      "image/png": {
       "height": 304,
       "width": 390
      }
     },
     "output_type": "display_data"
    }
   ],
   "source": [
    "pubshare = dataset['PUBLISHER'].value_counts()\n",
    "threshold = 500\n",
    "mask = pubshare > threshold\n",
    "x = pd.Series()\n",
    "x[('num of news > %d' %threshold)] = pubshare.loc[mask].sum()\n",
    "x['other'] = pubshare.loc[~mask].sum()\n",
    "x.plot(kind = 'bar')\n",
    "plt.xticks(rotation=25)\n",
    "plt.title('num of publishers with num of news > %d is %d' %(threshold, mask.sum()))\n",
    "plt.show()\n"
   ]
  },
  {
   "cell_type": "code",
   "execution_count": 4,
   "metadata": {
    "_cell_guid": "63053672-5377-4b07-8851-c627a30f52cc",
    "_uuid": "3c9f3f8de037cd8e89e08ad189f2dc8faba57e28"
   },
   "outputs": [
    {
     "data": {
      "text/plain": [
       "Reuters                            129\n",
       "Examiner.com                       101\n",
       "Wetpaint                            81\n",
       "NASDAQ                              73\n",
       "Contactmusic.com                    70\n",
       "Wall Street Journal                 68\n",
       "Huffington Post                     66\n",
       "Businessweek                        66\n",
       "San Francisco Chronicle             61\n",
       "Los Angeles Times                   55\n",
       "Forbes                              55\n",
       "TheCelebrityCafe.com                46\n",
       "Entertainmentwise                   43\n",
       "Daily Mail                          43\n",
       "International Business Times AU     42\n",
       "GlobalPost                          42\n",
       "Bloomberg                           41\n",
       "International Business Times        39\n",
       "TIME                                38\n",
       "ValueWalk                           38\n",
       "PerezHilton.com                     37\n",
       "International Business Times UK     36\n",
       "RTT News                            34\n",
       "MarketWatch                         34\n",
       "Reality TV World                    33\n",
       "USA TODAY                           33\n",
       "CNBC.com                            32\n",
       "BBC News                            31\n",
       "Motley Fool                         31\n",
       "Times of India                      31\n",
       "                                  ... \n",
       "WISN Milwaukee                       1\n",
       "Rush Lane                            1\n",
       "Bay Today                            1\n",
       "AOL                                  1\n",
       "Newstalk 1010                        1\n",
       "WREX-TV                              1\n",
       "HotStocked                           1\n",
       "Montgomery Newspapers                1\n",
       "MPNnow.com                           1\n",
       "Times Herald-Record                  1\n",
       "Mintpress News                       1\n",
       "BlueRidgeNow.com                     1\n",
       "RTE.ie \\(blog\\)                      1\n",
       "LawyersandSettlements.com            1\n",
       "God is a Geek                        1\n",
       "Android Geeks                        1\n",
       "Kearney Hub                          1\n",
       "StyleCaster                          1\n",
       "Bright Side of News\\*                1\n",
       "Bay Area Indymedia                   1\n",
       "theMusic                             1\n",
       "Nature.com \\(blog\\)                  1\n",
       "Indian Autos Blog \\(blog\\)           1\n",
       "ComicsAlliance                       1\n",
       "WGMB FOX 44                          1\n",
       "Telecom Lead \\(blog\\)                1\n",
       "Wicked Local Hingham                 1\n",
       "FairWarning                          1\n",
       "DigitalTVEurope.net                  1\n",
       "CelebStoner                          1\n",
       "Name: PUBLISHER, Length: 2549, dtype: int64"
      ]
     },
     "execution_count": 4,
     "metadata": {},
     "output_type": "execute_result"
    }
   ],
   "source": [
    "pubshare"
   ]
  },
  {
   "cell_type": "code",
   "execution_count": 5,
   "metadata": {
    "_cell_guid": "f91c9fa5-18f7-3fb0-1cbe-960c8e9f661a",
    "_uuid": "912f4997d8cff7faacb322d2df87d834f9e3956b",
    "collapsed": true,
    "scrolled": false
   },
   "outputs": [],
   "source": [
    "s = dataset['HOSTNAME'].value_counts()\n",
    "for hostname in s.keys():\n",
    "    target_website = dataset.loc[dataset['HOSTNAME'].isin([hostname])]\n",
    "    vc = target_website['CATEGORY'].value_counts()\n",
    "    if 'm' in vc:\n",
    "        if vc['m'] > 500:\n",
    "            print('Hostname: %s , %s' %(hostname, str(vc)))"
   ]
  },
  {
   "cell_type": "code",
   "execution_count": 6,
   "metadata": {
    "_cell_guid": "e0e11dee-7f0d-c6f8-4409-1f36da96c76e",
    "_kg_hide-output": false,
    "_uuid": "a611f25d734cba31c7b74094ca121d8f2dadeb3f",
    "scrolled": false
   },
   "outputs": [
    {
     "name": "stdout",
     "output_type": "stream",
     "text": [
      "Index(['www.examiner.com', 'in.reuters.com', 'www.wetpaint.com',\n",
      "       'www.nasdaq.com', 'www.huffingtonpost.com', 'www.contactmusic.com',\n",
      "       'www.businessweek.com', 'www.sfgate.com', 'www.forbes.com',\n",
      "       'www.bizjournals.com',\n",
      "       ...\n",
      "       'blog.caranddriver.com', 'www.news-record.com', 'www.biztimes.com',\n",
      "       'www.americanlawyer.com', 'www.tntmagazine.com',\n",
      "       'www.mayerthorpefreelancer.com', 'www.techdigest.tv',\n",
      "       'www.inlandnewstoday.com', 'msn.foxsports.com', 'www.planetary.org'],\n",
      "      dtype='object', length=2544)\n"
     ]
    },
    {
     "data": {
      "text/html": [
       "<div>\n",
       "<style>\n",
       "    .dataframe thead tr:only-child th {\n",
       "        text-align: right;\n",
       "    }\n",
       "\n",
       "    .dataframe thead th {\n",
       "        text-align: left;\n",
       "    }\n",
       "\n",
       "    .dataframe tbody tr th {\n",
       "        vertical-align: top;\n",
       "    }\n",
       "</style>\n",
       "<table border=\"1\" class=\"dataframe\">\n",
       "  <thead>\n",
       "    <tr style=\"text-align: right;\">\n",
       "      <th></th>\n",
       "      <th>ID</th>\n",
       "      <th>TITLE</th>\n",
       "      <th>URL</th>\n",
       "      <th>PUBLISHER</th>\n",
       "      <th>CATEGORY</th>\n",
       "      <th>STORY</th>\n",
       "      <th>HOSTNAME</th>\n",
       "      <th>TIMESTAMP</th>\n",
       "    </tr>\n",
       "  </thead>\n",
       "  <tbody>\n",
       "    <tr>\n",
       "      <th>2274</th>\n",
       "      <td>2275</td>\n",
       "      <td>Latest \"Game Of Thrones\" Trailer Reveals Nothi...</td>\n",
       "      <td>http://www.contactmusic.com/article/game-of-th...</td>\n",
       "      <td>Contactmusic.com</td>\n",
       "      <td>e</td>\n",
       "      <td>doklLt-bdL5ggOMQ_e6SbdaJYJr5M</td>\n",
       "      <td>www.contactmusic.com</td>\n",
       "      <td>1.394520e+12</td>\n",
       "    </tr>\n",
       "    <tr>\n",
       "      <th>2420</th>\n",
       "      <td>2421</td>\n",
       "      <td>Lindsay Lohan - Lindsay Lohan wants 'integrity'</td>\n",
       "      <td>http://www.contactmusic.com/story/lindsay-loha...</td>\n",
       "      <td>Contactmusic.com</td>\n",
       "      <td>e</td>\n",
       "      <td>d-j0NxvRU7t3t8M-vJ--LXhVdVkvM</td>\n",
       "      <td>www.contactmusic.com</td>\n",
       "      <td>1.394520e+12</td>\n",
       "    </tr>\n",
       "    <tr>\n",
       "      <th>2428</th>\n",
       "      <td>2429</td>\n",
       "      <td>Lindsay Lohan Spends Most Of OWN Pilot Cooling...</td>\n",
       "      <td>http://www.contactmusic.com/article/lindsay-lo...</td>\n",
       "      <td>Contactmusic.com</td>\n",
       "      <td>e</td>\n",
       "      <td>d-j0NxvRU7t3t8M-vJ--LXhVdVkvM</td>\n",
       "      <td>www.contactmusic.com</td>\n",
       "      <td>1.394520e+12</td>\n",
       "    </tr>\n",
       "    <tr>\n",
       "      <th>2455</th>\n",
       "      <td>2456</td>\n",
       "      <td>Miley Cyrus' Obsessed Fan Sneaks Into Singer's...</td>\n",
       "      <td>http://www.contactmusic.com/article/miley-cyru...</td>\n",
       "      <td>Contactmusic.com</td>\n",
       "      <td>e</td>\n",
       "      <td>dQ7mGX5Q5MsdjmMycY3sCTlY_y57M</td>\n",
       "      <td>www.contactmusic.com</td>\n",
       "      <td>1.394520e+12</td>\n",
       "    </tr>\n",
       "    <tr>\n",
       "      <th>2470</th>\n",
       "      <td>2471</td>\n",
       "      <td>Miley Cyrus - Miley Cyrus fan arrested after s...</td>\n",
       "      <td>http://www.contactmusic.com/story/miley-cyrus-...</td>\n",
       "      <td>Contactmusic.com</td>\n",
       "      <td>e</td>\n",
       "      <td>dQ7mGX5Q5MsdjmMycY3sCTlY_y57M</td>\n",
       "      <td>www.contactmusic.com</td>\n",
       "      <td>1.394520e+12</td>\n",
       "    </tr>\n",
       "    <tr>\n",
       "      <th>2473</th>\n",
       "      <td>2474</td>\n",
       "      <td>Miley Cyrus - Teen Arrested After Sneaking Int...</td>\n",
       "      <td>http://www.contactmusic.com/story/teen-arreste...</td>\n",
       "      <td>Contactmusic.com</td>\n",
       "      <td>e</td>\n",
       "      <td>dQ7mGX5Q5MsdjmMycY3sCTlY_y57M</td>\n",
       "      <td>www.contactmusic.com</td>\n",
       "      <td>1.394520e+12</td>\n",
       "    </tr>\n",
       "    <tr>\n",
       "      <th>2681</th>\n",
       "      <td>2682</td>\n",
       "      <td>Tensions Run High Ahead Of \"Bachelor\" Finale (...</td>\n",
       "      <td>http://www.contactmusic.com/article/the-bachel...</td>\n",
       "      <td>Contactmusic.com</td>\n",
       "      <td>e</td>\n",
       "      <td>dHmpog6unxaYYaMzYMEdbkeDeB9iM</td>\n",
       "      <td>www.contactmusic.com</td>\n",
       "      <td>1.394530e+12</td>\n",
       "    </tr>\n",
       "    <tr>\n",
       "      <th>2887</th>\n",
       "      <td>2888</td>\n",
       "      <td>Zac Efron Confirms He Is Eager For 'High Schoo...</td>\n",
       "      <td>http://www.contactmusic.com/article/zac-efron-...</td>\n",
       "      <td>Contactmusic.com</td>\n",
       "      <td>e</td>\n",
       "      <td>dEwcrt6LPSpnQZMj6PUU87nPXmo7M</td>\n",
       "      <td>www.contactmusic.com</td>\n",
       "      <td>1.394530e+12</td>\n",
       "    </tr>\n",
       "    <tr>\n",
       "      <th>2893</th>\n",
       "      <td>2894</td>\n",
       "      <td>Zac Efron - Zac Efron Open To High School Musi...</td>\n",
       "      <td>http://www.contactmusic.com/story/zac-efron-op...</td>\n",
       "      <td>Contactmusic.com</td>\n",
       "      <td>e</td>\n",
       "      <td>dEwcrt6LPSpnQZMj6PUU87nPXmo7M</td>\n",
       "      <td>www.contactmusic.com</td>\n",
       "      <td>1.394530e+12</td>\n",
       "    </tr>\n",
       "    <tr>\n",
       "      <th>2917</th>\n",
       "      <td>2918</td>\n",
       "      <td>Zac Efron - Zac Efron 'thinking about' High Sc...</td>\n",
       "      <td>http://www.contactmusic.com/story/zac-efron-th...</td>\n",
       "      <td>Contactmusic.com</td>\n",
       "      <td>e</td>\n",
       "      <td>dEwcrt6LPSpnQZMj6PUU87nPXmo7M</td>\n",
       "      <td>www.contactmusic.com</td>\n",
       "      <td>1.394530e+12</td>\n",
       "    </tr>\n",
       "    <tr>\n",
       "      <th>2931</th>\n",
       "      <td>2932</td>\n",
       "      <td>SXSW Highlights: \"Chef\", \"Neighbors\" And \"Vero...</td>\n",
       "      <td>http://www.contactmusic.com/article/sxsw-highl...</td>\n",
       "      <td>Contactmusic.com</td>\n",
       "      <td>e</td>\n",
       "      <td>dEwcrt6LPSpnQZMj6PUU87nPXmo7M</td>\n",
       "      <td>www.contactmusic.com</td>\n",
       "      <td>1.394530e+12</td>\n",
       "    </tr>\n",
       "    <tr>\n",
       "      <th>3155</th>\n",
       "      <td>3156</td>\n",
       "      <td>Girls - Lena Dunham Calls Out Hollywood Sexism...</td>\n",
       "      <td>http://www.contactmusic.com/story/lena-dunham-...</td>\n",
       "      <td>Contactmusic.com</td>\n",
       "      <td>e</td>\n",
       "      <td>dIAUryHj5P5xMKMj_WJbFcAQncTbM</td>\n",
       "      <td>www.contactmusic.com</td>\n",
       "      <td>1.394530e+12</td>\n",
       "    </tr>\n",
       "    <tr>\n",
       "      <th>3165</th>\n",
       "      <td>3166</td>\n",
       "      <td>The Critics Have Their Say On Lena Dunham Host...</td>\n",
       "      <td>http://www.contactmusic.com/article/critics-re...</td>\n",
       "      <td>Contactmusic.com</td>\n",
       "      <td>e</td>\n",
       "      <td>dIAUryHj5P5xMKMj_WJbFcAQncTbM</td>\n",
       "      <td>www.contactmusic.com</td>\n",
       "      <td>1.394530e+12</td>\n",
       "    </tr>\n",
       "    <tr>\n",
       "      <th>3208</th>\n",
       "      <td>3209</td>\n",
       "      <td>Was That Molestation Joke Lena Dunham's First ...</td>\n",
       "      <td>http://www.contactmusic.com/article/lena-dunha...</td>\n",
       "      <td>Contactmusic.com</td>\n",
       "      <td>e</td>\n",
       "      <td>dIAUryHj5P5xMKMj_WJbFcAQncTbM</td>\n",
       "      <td>www.contactmusic.com</td>\n",
       "      <td>1.394530e+12</td>\n",
       "    </tr>\n",
       "    <tr>\n",
       "      <th>3237</th>\n",
       "      <td>3238</td>\n",
       "      <td>Lena Dunham - Lena Dunham Apologises For Moles...</td>\n",
       "      <td>http://www.contactmusic.com/story/lena-dunham-...</td>\n",
       "      <td>Contactmusic.com</td>\n",
       "      <td>e</td>\n",
       "      <td>dIAUryHj5P5xMKMj_WJbFcAQncTbM</td>\n",
       "      <td>www.contactmusic.com</td>\n",
       "      <td>1.394530e+12</td>\n",
       "    </tr>\n",
       "    <tr>\n",
       "      <th>3246</th>\n",
       "      <td>3247</td>\n",
       "      <td>Girls Meets Genesis In Lena Dunham's Best SNL ...</td>\n",
       "      <td>http://www.contactmusic.com/article/lena-dunha...</td>\n",
       "      <td>Contactmusic.com</td>\n",
       "      <td>e</td>\n",
       "      <td>dIAUryHj5P5xMKMj_WJbFcAQncTbM</td>\n",
       "      <td>www.contactmusic.com</td>\n",
       "      <td>1.394530e+12</td>\n",
       "    </tr>\n",
       "    <tr>\n",
       "      <th>3263</th>\n",
       "      <td>3264</td>\n",
       "      <td>Lena Dunham - Lena Dunham parties with Taylor ...</td>\n",
       "      <td>http://www.contactmusic.com/story/lena-dunham-...</td>\n",
       "      <td>Contactmusic.com</td>\n",
       "      <td>e</td>\n",
       "      <td>dIAUryHj5P5xMKMj_WJbFcAQncTbM</td>\n",
       "      <td>www.contactmusic.com</td>\n",
       "      <td>1.394530e+12</td>\n",
       "    </tr>\n",
       "    <tr>\n",
       "      <th>3303</th>\n",
       "      <td>3304</td>\n",
       "      <td>Lena Dunham Goes All Old Testament On SNL</td>\n",
       "      <td>http://www.contactmusic.com/article/lena-dunha...</td>\n",
       "      <td>Contactmusic.com</td>\n",
       "      <td>e</td>\n",
       "      <td>dIAUryHj5P5xMKMj_WJbFcAQncTbM</td>\n",
       "      <td>www.contactmusic.com</td>\n",
       "      <td>1.394530e+12</td>\n",
       "    </tr>\n",
       "    <tr>\n",
       "      <th>3337</th>\n",
       "      <td>3338</td>\n",
       "      <td>Neil Young - Neil Young To Unveil Pono Music S...</td>\n",
       "      <td>http://www.contactmusic.com/story/neil-young-t...</td>\n",
       "      <td>Contactmusic.com</td>\n",
       "      <td>e</td>\n",
       "      <td>dySYl91T1BpO-NM0mbKWEsHDcxedM</td>\n",
       "      <td>www.contactmusic.com</td>\n",
       "      <td>1.394540e+12</td>\n",
       "    </tr>\n",
       "    <tr>\n",
       "      <th>3406</th>\n",
       "      <td>3407</td>\n",
       "      <td>What To Expect From Jon Favreau's New Movie 'C...</td>\n",
       "      <td>http://www.contactmusic.com/in-depth/jon-favre...</td>\n",
       "      <td>Contactmusic.com</td>\n",
       "      <td>e</td>\n",
       "      <td>dcIVq7irVOe0J0M7GejS54hesarSM</td>\n",
       "      <td>www.contactmusic.com</td>\n",
       "      <td>1.394540e+12</td>\n",
       "    </tr>\n",
       "    <tr>\n",
       "      <th>3408</th>\n",
       "      <td>3409</td>\n",
       "      <td>'Chef' Is A Double Passion Project for Jon Fav...</td>\n",
       "      <td>http://www.contactmusic.com/article/jon-favrea...</td>\n",
       "      <td>Contactmusic.com</td>\n",
       "      <td>e</td>\n",
       "      <td>dcIVq7irVOe0J0M7GejS54hesarSM</td>\n",
       "      <td>www.contactmusic.com</td>\n",
       "      <td>1.394540e+12</td>\n",
       "    </tr>\n",
       "    <tr>\n",
       "      <th>3438</th>\n",
       "      <td>3439</td>\n",
       "      <td>Jon Favreau Talks New Movie, Also Scarlett Joh...</td>\n",
       "      <td>http://www.contactmusic.com/article/scarlett-j...</td>\n",
       "      <td>Contactmusic.com</td>\n",
       "      <td>e</td>\n",
       "      <td>dcIVq7irVOe0J0M7GejS54hesarSM</td>\n",
       "      <td>www.contactmusic.com</td>\n",
       "      <td>1.394540e+12</td>\n",
       "    </tr>\n",
       "    <tr>\n",
       "      <th>3452</th>\n",
       "      <td>3453</td>\n",
       "      <td>Jon Favreau - Jon Favreau: Scarlett Johansson ...</td>\n",
       "      <td>http://www.contactmusic.com/story/jon-favreau-...</td>\n",
       "      <td>Contactmusic.com</td>\n",
       "      <td>e</td>\n",
       "      <td>dcIVq7irVOe0J0M7GejS54hesarSM</td>\n",
       "      <td>www.contactmusic.com</td>\n",
       "      <td>1.394540e+12</td>\n",
       "    </tr>\n",
       "    <tr>\n",
       "      <th>3484</th>\n",
       "      <td>3485</td>\n",
       "      <td>Justin Bieber - Justin Bieber can't be 'broken'</td>\n",
       "      <td>http://www.contactmusic.com/story/justin-biebe...</td>\n",
       "      <td>Contactmusic.com</td>\n",
       "      <td>e</td>\n",
       "      <td>dCxvbre5Du4-F-MroYv-rcXZ19RtM</td>\n",
       "      <td>www.contactmusic.com</td>\n",
       "      <td>1.394540e+12</td>\n",
       "    </tr>\n",
       "    <tr>\n",
       "      <th>3524</th>\n",
       "      <td>3525</td>\n",
       "      <td>Selena Gomez And Justin Bieber Dance It Out, B...</td>\n",
       "      <td>http://www.contactmusic.com/article/selena-gom...</td>\n",
       "      <td>Contactmusic.com</td>\n",
       "      <td>e</td>\n",
       "      <td>dCxvbre5Du4-F-MroYv-rcXZ19RtM</td>\n",
       "      <td>www.contactmusic.com</td>\n",
       "      <td>1.394540e+12</td>\n",
       "    </tr>\n",
       "    <tr>\n",
       "      <th>3574</th>\n",
       "      <td>3575</td>\n",
       "      <td>Justin Bieber Blasts Lawyer For Asking About S...</td>\n",
       "      <td>http://www.contactmusic.com/article/justin-bie...</td>\n",
       "      <td>Contactmusic.com</td>\n",
       "      <td>e</td>\n",
       "      <td>dCxvbre5Du4-F-MroYv-rcXZ19RtM</td>\n",
       "      <td>www.contactmusic.com</td>\n",
       "      <td>1.394540e+12</td>\n",
       "    </tr>\n",
       "    <tr>\n",
       "      <th>3607</th>\n",
       "      <td>3608</td>\n",
       "      <td>Reunited And It Feels So Good: Justin Bieber A...</td>\n",
       "      <td>http://www.contactmusic.com/article/selena-gom...</td>\n",
       "      <td>Contactmusic.com</td>\n",
       "      <td>e</td>\n",
       "      <td>dCxvbre5Du4-F-MroYv-rcXZ19RtM</td>\n",
       "      <td>www.contactmusic.com</td>\n",
       "      <td>1.394540e+12</td>\n",
       "    </tr>\n",
       "    <tr>\n",
       "      <th>3608</th>\n",
       "      <td>3609</td>\n",
       "      <td>Justin Bieber - Justin Bieber dedicates song t...</td>\n",
       "      <td>http://www.contactmusic.com/story/justin-biebe...</td>\n",
       "      <td>Contactmusic.com</td>\n",
       "      <td>e</td>\n",
       "      <td>dCxvbre5Du4-F-MroYv-rcXZ19RtM</td>\n",
       "      <td>www.contactmusic.com</td>\n",
       "      <td>1.394540e+12</td>\n",
       "    </tr>\n",
       "    <tr>\n",
       "      <th>3619</th>\n",
       "      <td>3620</td>\n",
       "      <td>Selena Gomez - Selena Gomez' parents 'vehement...</td>\n",
       "      <td>http://www.contactmusic.com/story/selena-gomez...</td>\n",
       "      <td>Contactmusic.com</td>\n",
       "      <td>e</td>\n",
       "      <td>dCxvbre5Du4-F-MroYv-rcXZ19RtM</td>\n",
       "      <td>www.contactmusic.com</td>\n",
       "      <td>1.394540e+12</td>\n",
       "    </tr>\n",
       "    <tr>\n",
       "      <th>3653</th>\n",
       "      <td>3654</td>\n",
       "      <td>Stacy Keibler And Jared Pobre's Wedding Was Ke...</td>\n",
       "      <td>http://www.contactmusic.com/article/stacy-keib...</td>\n",
       "      <td>Contactmusic.com</td>\n",
       "      <td>e</td>\n",
       "      <td>dhkRgwm8w7ydmEMc5T-ETIrrC4TAM</td>\n",
       "      <td>www.contactmusic.com</td>\n",
       "      <td>1.394540e+12</td>\n",
       "    </tr>\n",
       "    <tr>\n",
       "      <th>...</th>\n",
       "      <td>...</td>\n",
       "      <td>...</td>\n",
       "      <td>...</td>\n",
       "      <td>...</td>\n",
       "      <td>...</td>\n",
       "      <td>...</td>\n",
       "      <td>...</td>\n",
       "      <td>...</td>\n",
       "    </tr>\n",
       "    <tr>\n",
       "      <th>3991</th>\n",
       "      <td>3992</td>\n",
       "      <td>Miley Cyrus Forced To Perform In Underwear Due...</td>\n",
       "      <td>http://www.contactmusic.com/article/miley-cyru...</td>\n",
       "      <td>Contactmusic.com</td>\n",
       "      <td>e</td>\n",
       "      <td>dtWjQeJMt6t4cYMfY05dyzFJkdO-M</td>\n",
       "      <td>www.contactmusic.com</td>\n",
       "      <td>1.394540e+12</td>\n",
       "    </tr>\n",
       "    <tr>\n",
       "      <th>4017</th>\n",
       "      <td>4018</td>\n",
       "      <td>Miley Cyrus - Miley Cyrus performs in 'undies'</td>\n",
       "      <td>http://www.contactmusic.com/story/miley-cyrus-...</td>\n",
       "      <td>Contactmusic.com</td>\n",
       "      <td>e</td>\n",
       "      <td>dtWjQeJMt6t4cYMfY05dyzFJkdO-M</td>\n",
       "      <td>www.contactmusic.com</td>\n",
       "      <td>1.394540e+12</td>\n",
       "    </tr>\n",
       "    <tr>\n",
       "      <th>4041</th>\n",
       "      <td>4042</td>\n",
       "      <td>Miley Cyrus - Miley Cyrus Performs In Her Unde...</td>\n",
       "      <td>http://www.contactmusic.com/story/miley-cyrus-...</td>\n",
       "      <td>Contactmusic.com</td>\n",
       "      <td>e</td>\n",
       "      <td>dtWjQeJMt6t4cYMfY05dyzFJkdO-M</td>\n",
       "      <td>www.contactmusic.com</td>\n",
       "      <td>1.394540e+12</td>\n",
       "    </tr>\n",
       "    <tr>\n",
       "      <th>4199</th>\n",
       "      <td>4200</td>\n",
       "      <td>Beyonce - Beyonce Fronts New Campaign For Girl...</td>\n",
       "      <td>http://www.contactmusic.com/story/beyonce-fron...</td>\n",
       "      <td>Contactmusic.com</td>\n",
       "      <td>e</td>\n",
       "      <td>dSg2r49OAZjxU0MKNazc_QdiwDkOM</td>\n",
       "      <td>www.contactmusic.com</td>\n",
       "      <td>1.394550e+12</td>\n",
       "    </tr>\n",
       "    <tr>\n",
       "      <th>6219</th>\n",
       "      <td>6220</td>\n",
       "      <td>Shailene Woodley Reavels She \"Might Have\" Hook...</td>\n",
       "      <td>http://www.contactmusic.com/article/shailene-w...</td>\n",
       "      <td>Contactmusic.com</td>\n",
       "      <td>e</td>\n",
       "      <td>ddfEq1wKc7iCzGMvYSy_ekodamTeM</td>\n",
       "      <td>www.contactmusic.com</td>\n",
       "      <td>1.394600e+12</td>\n",
       "    </tr>\n",
       "    <tr>\n",
       "      <th>6226</th>\n",
       "      <td>6227</td>\n",
       "      <td>Home &gt; Shailene Woodley &gt; Shailene Woodley Hoo...</td>\n",
       "      <td>http://www.contactmusic.com/story/shailene-woo...</td>\n",
       "      <td>Contactmusic.com</td>\n",
       "      <td>e</td>\n",
       "      <td>ddfEq1wKc7iCzGMvYSy_ekodamTeM</td>\n",
       "      <td>www.contactmusic.com</td>\n",
       "      <td>1.394600e+12</td>\n",
       "    </tr>\n",
       "    <tr>\n",
       "      <th>6267</th>\n",
       "      <td>6268</td>\n",
       "      <td>Shailene Woodley. - Shailene Woodley feels fre...</td>\n",
       "      <td>http://www.contactmusic.com/story/shailene-woo...</td>\n",
       "      <td>Contactmusic.com</td>\n",
       "      <td>e</td>\n",
       "      <td>ddfEq1wKc7iCzGMvYSy_ekodamTeM</td>\n",
       "      <td>www.contactmusic.com</td>\n",
       "      <td>1.394600e+12</td>\n",
       "    </tr>\n",
       "    <tr>\n",
       "      <th>6329</th>\n",
       "      <td>6330</td>\n",
       "      <td>First Look At The Flash's Costume: Grant Gusti...</td>\n",
       "      <td>http://www.contactmusic.com/article/grant-gust...</td>\n",
       "      <td>Contactmusic.com</td>\n",
       "      <td>e</td>\n",
       "      <td>dhEMwa0MwoR1WhMbGqJ5FLoTnr5nM</td>\n",
       "      <td>www.contactmusic.com</td>\n",
       "      <td>1.394600e+12</td>\n",
       "    </tr>\n",
       "    <tr>\n",
       "      <th>6385</th>\n",
       "      <td>6386</td>\n",
       "      <td>Keith Richards - Keith Richards writes childre...</td>\n",
       "      <td>http://www.contactmusic.com/story/keith-richar...</td>\n",
       "      <td>Contactmusic.com</td>\n",
       "      <td>e</td>\n",
       "      <td>dGnQI7Y3VNeqqJMKzJxMVIUO5czAM</td>\n",
       "      <td>www.contactmusic.com</td>\n",
       "      <td>1.394600e+12</td>\n",
       "    </tr>\n",
       "    <tr>\n",
       "      <th>6387</th>\n",
       "      <td>6388</td>\n",
       "      <td>The Rolling Stones' Keith Richards Will Write ...</td>\n",
       "      <td>http://www.contactmusic.com/article/the-rollin...</td>\n",
       "      <td>Contactmusic.com</td>\n",
       "      <td>e</td>\n",
       "      <td>dGnQI7Y3VNeqqJMKzJxMVIUO5czAM</td>\n",
       "      <td>www.contactmusic.com</td>\n",
       "      <td>1.394600e+12</td>\n",
       "    </tr>\n",
       "    <tr>\n",
       "      <th>6409</th>\n",
       "      <td>6410</td>\n",
       "      <td>Keith Richards - Keith Richards Releasing Chil...</td>\n",
       "      <td>http://www.contactmusic.com/story/keith-richar...</td>\n",
       "      <td>Contactmusic.com</td>\n",
       "      <td>e</td>\n",
       "      <td>dGnQI7Y3VNeqqJMKzJxMVIUO5czAM</td>\n",
       "      <td>www.contactmusic.com</td>\n",
       "      <td>1.394600e+12</td>\n",
       "    </tr>\n",
       "    <tr>\n",
       "      <th>6419</th>\n",
       "      <td>6420</td>\n",
       "      <td>Keith Richards Writes Children's Book With Dau...</td>\n",
       "      <td>http://www.contactmusic.com/article/keith-rich...</td>\n",
       "      <td>Contactmusic.com</td>\n",
       "      <td>e</td>\n",
       "      <td>dGnQI7Y3VNeqqJMKzJxMVIUO5czAM</td>\n",
       "      <td>www.contactmusic.com</td>\n",
       "      <td>1.394600e+12</td>\n",
       "    </tr>\n",
       "    <tr>\n",
       "      <th>6482</th>\n",
       "      <td>6483</td>\n",
       "      <td>'Noah': Mixed Signals in Mexico, Strong Start ...</td>\n",
       "      <td>http://www.contactmusic.com/article/noah-movie...</td>\n",
       "      <td>Contactmusic.com</td>\n",
       "      <td>e</td>\n",
       "      <td>dIhuBamtWx3sP3MFwyNPkbnPObgsM</td>\n",
       "      <td>www.contactmusic.com</td>\n",
       "      <td>1.394600e+12</td>\n",
       "    </tr>\n",
       "    <tr>\n",
       "      <th>6508</th>\n",
       "      <td>6509</td>\n",
       "      <td>'Noah' Movie Makes First Waves In Mexico Despi...</td>\n",
       "      <td>http://www.contactmusic.com/article/noah-movie...</td>\n",
       "      <td>Contactmusic.com</td>\n",
       "      <td>e</td>\n",
       "      <td>dIhuBamtWx3sP3MFwyNPkbnPObgsM</td>\n",
       "      <td>www.contactmusic.com</td>\n",
       "      <td>1.394600e+12</td>\n",
       "    </tr>\n",
       "    <tr>\n",
       "      <th>6537</th>\n",
       "      <td>6538</td>\n",
       "      <td>Who Joined Taylor Swift in Billboard's List of...</td>\n",
       "      <td>http://www.contactmusic.com/in-depth/top-billb...</td>\n",
       "      <td>Contactmusic.com</td>\n",
       "      <td>e</td>\n",
       "      <td>dvKMWGupqCUpJGMxZrmTBv0NjcOlM</td>\n",
       "      <td>www.contactmusic.com</td>\n",
       "      <td>1.394600e+12</td>\n",
       "    </tr>\n",
       "    <tr>\n",
       "      <th>6550</th>\n",
       "      <td>6551</td>\n",
       "      <td>Taylor Swift Named Billboard's Biggest Earner ...</td>\n",
       "      <td>http://www.contactmusic.com/article/taylor-swi...</td>\n",
       "      <td>Contactmusic.com</td>\n",
       "      <td>e</td>\n",
       "      <td>dvKMWGupqCUpJGMxZrmTBv0NjcOlM</td>\n",
       "      <td>www.contactmusic.com</td>\n",
       "      <td>1.394600e+12</td>\n",
       "    </tr>\n",
       "    <tr>\n",
       "      <th>6602</th>\n",
       "      <td>6603</td>\n",
       "      <td>Home &gt; Justin Bieber &gt; Justin Bieber Sends Sel...</td>\n",
       "      <td>http://www.contactmusic.com/story/justin-biebe...</td>\n",
       "      <td>Contactmusic.com</td>\n",
       "      <td>e</td>\n",
       "      <td>d--MozT4MsoFfIMgKu5_N58OF_f9M</td>\n",
       "      <td>www.contactmusic.com</td>\n",
       "      <td>1.394600e+12</td>\n",
       "    </tr>\n",
       "    <tr>\n",
       "      <th>6716</th>\n",
       "      <td>6717</td>\n",
       "      <td>Justin Bieber - Justin Bieber And Selena Gomez...</td>\n",
       "      <td>http://www.contactmusic.com/story/justin-biebe...</td>\n",
       "      <td>Contactmusic.com</td>\n",
       "      <td>e</td>\n",
       "      <td>d--MozT4MsoFfIMgKu5_N58OF_f9M</td>\n",
       "      <td>www.contactmusic.com</td>\n",
       "      <td>1.394600e+12</td>\n",
       "    </tr>\n",
       "    <tr>\n",
       "      <th>6750</th>\n",
       "      <td>6751</td>\n",
       "      <td>Justin Bieber - Justin Bieber Dedicates Song T...</td>\n",
       "      <td>http://www.contactmusic.com/story/justin-biebe...</td>\n",
       "      <td>Contactmusic.com</td>\n",
       "      <td>e</td>\n",
       "      <td>d--MozT4MsoFfIMgKu5_N58OF_f9M</td>\n",
       "      <td>www.contactmusic.com</td>\n",
       "      <td>1.394600e+12</td>\n",
       "    </tr>\n",
       "    <tr>\n",
       "      <th>7049</th>\n",
       "      <td>7050</td>\n",
       "      <td>Lena Dunham - Lena Dunham may quit acting</td>\n",
       "      <td>http://www.contactmusic.com/story/lena-dunham-...</td>\n",
       "      <td>Contactmusic.com</td>\n",
       "      <td>e</td>\n",
       "      <td>dTafwmkAOEOrtWMEXDfTIXJmrzRyM</td>\n",
       "      <td>www.contactmusic.com</td>\n",
       "      <td>1.394620e+12</td>\n",
       "    </tr>\n",
       "    <tr>\n",
       "      <th>7056</th>\n",
       "      <td>7057</td>\n",
       "      <td>Lena Dunham May Leave Acting After HBO's 'Girl...</td>\n",
       "      <td>http://www.contactmusic.com/article/lena-dunha...</td>\n",
       "      <td>Contactmusic.com</td>\n",
       "      <td>e</td>\n",
       "      <td>dTafwmkAOEOrtWMEXDfTIXJmrzRyM</td>\n",
       "      <td>www.contactmusic.com</td>\n",
       "      <td>1.394620e+12</td>\n",
       "    </tr>\n",
       "    <tr>\n",
       "      <th>7100</th>\n",
       "      <td>7101</td>\n",
       "      <td>Lena Dunham At SXSW - A Case Study In Not Hati...</td>\n",
       "      <td>http://www.contactmusic.com/article/lena-dunha...</td>\n",
       "      <td>Contactmusic.com</td>\n",
       "      <td>e</td>\n",
       "      <td>dTafwmkAOEOrtWMEXDfTIXJmrzRyM</td>\n",
       "      <td>www.contactmusic.com</td>\n",
       "      <td>1.394620e+12</td>\n",
       "    </tr>\n",
       "    <tr>\n",
       "      <th>7116</th>\n",
       "      <td>7117</td>\n",
       "      <td>Anne Sweeney Walks Away From Disney/ABC To Bec...</td>\n",
       "      <td>http://www.contactmusic.com/article/anne-sween...</td>\n",
       "      <td>Contactmusic.com</td>\n",
       "      <td>e</td>\n",
       "      <td>d1wswDkKstIgRoMxbwiPrCz_D2rjM</td>\n",
       "      <td>www.contactmusic.com</td>\n",
       "      <td>1.394620e+12</td>\n",
       "    </tr>\n",
       "    <tr>\n",
       "      <th>7201</th>\n",
       "      <td>7202</td>\n",
       "      <td>Lindsay Lohan - Lindsay Lohan partied hard at ...</td>\n",
       "      <td>http://www.contactmusic.com/story/lindsay-loha...</td>\n",
       "      <td>Contactmusic.com</td>\n",
       "      <td>e</td>\n",
       "      <td>dVcOVvQS4nyFbZMdbG6l3mHo7EVkM</td>\n",
       "      <td>www.contactmusic.com</td>\n",
       "      <td>1.394620e+12</td>\n",
       "    </tr>\n",
       "    <tr>\n",
       "      <th>7204</th>\n",
       "      <td>7205</td>\n",
       "      <td>Lukewarm Ratings For \"Lindsay\" Give OWN Much N...</td>\n",
       "      <td>http://www.contactmusic.com/article/lindsay-lo...</td>\n",
       "      <td>Contactmusic.com</td>\n",
       "      <td>e</td>\n",
       "      <td>dVcOVvQS4nyFbZMdbG6l3mHo7EVkM</td>\n",
       "      <td>www.contactmusic.com</td>\n",
       "      <td>1.394620e+12</td>\n",
       "    </tr>\n",
       "    <tr>\n",
       "      <th>7524</th>\n",
       "      <td>7525</td>\n",
       "      <td>Is 'Mad Men' Planning a 'Sopranos' Style Ending?</td>\n",
       "      <td>http://www.contactmusic.com/article/mad-men-se...</td>\n",
       "      <td>Contactmusic.com</td>\n",
       "      <td>e</td>\n",
       "      <td>diHsEtjZgidEz_M6R42gBLNM8v-GM</td>\n",
       "      <td>www.contactmusic.com</td>\n",
       "      <td>1.394620e+12</td>\n",
       "    </tr>\n",
       "    <tr>\n",
       "      <th>7539</th>\n",
       "      <td>7540</td>\n",
       "      <td>Claire Holt Leaves 'The Originals' Before Conc...</td>\n",
       "      <td>http://www.contactmusic.com/article/claire-hol...</td>\n",
       "      <td>Contactmusic.com</td>\n",
       "      <td>e</td>\n",
       "      <td>df68Lw8srt0UIgMSNaRsN-qnNSamM</td>\n",
       "      <td>www.contactmusic.com</td>\n",
       "      <td>1.394620e+12</td>\n",
       "    </tr>\n",
       "    <tr>\n",
       "      <th>7541</th>\n",
       "      <td>7542</td>\n",
       "      <td>Claire Holt - Claire Holt Leaves The Originals</td>\n",
       "      <td>http://www.contactmusic.com/story/claire-holt-...</td>\n",
       "      <td>Contactmusic.com</td>\n",
       "      <td>e</td>\n",
       "      <td>df68Lw8srt0UIgMSNaRsN-qnNSamM</td>\n",
       "      <td>www.contactmusic.com</td>\n",
       "      <td>1.394620e+12</td>\n",
       "    </tr>\n",
       "    <tr>\n",
       "      <th>7580</th>\n",
       "      <td>7581</td>\n",
       "      <td>Neil Young Crowdfunding Alernative To The Ipod...</td>\n",
       "      <td>http://www.contactmusic.com/article/neil-young...</td>\n",
       "      <td>Contactmusic.com</td>\n",
       "      <td>e</td>\n",
       "      <td>d4PJFa1co3Mku-MxjwCHHW7xLx1pM</td>\n",
       "      <td>www.contactmusic.com</td>\n",
       "      <td>1.394620e+12</td>\n",
       "    </tr>\n",
       "    <tr>\n",
       "      <th>7587</th>\n",
       "      <td>7588</td>\n",
       "      <td>Neil Young - Neil Young Calls On Big Name Pals...</td>\n",
       "      <td>http://www.contactmusic.com/story/neil-young-c...</td>\n",
       "      <td>Contactmusic.com</td>\n",
       "      <td>e</td>\n",
       "      <td>d4PJFa1co3Mku-MxjwCHHW7xLx1pM</td>\n",
       "      <td>www.contactmusic.com</td>\n",
       "      <td>1.394620e+12</td>\n",
       "    </tr>\n",
       "  </tbody>\n",
       "</table>\n",
       "<p>70 rows × 8 columns</p>\n",
       "</div>"
      ],
      "text/plain": [
       "        ID                                              TITLE  \\\n",
       "2274  2275  Latest \"Game Of Thrones\" Trailer Reveals Nothi...   \n",
       "2420  2421    Lindsay Lohan - Lindsay Lohan wants 'integrity'   \n",
       "2428  2429  Lindsay Lohan Spends Most Of OWN Pilot Cooling...   \n",
       "2455  2456  Miley Cyrus' Obsessed Fan Sneaks Into Singer's...   \n",
       "2470  2471  Miley Cyrus - Miley Cyrus fan arrested after s...   \n",
       "2473  2474  Miley Cyrus - Teen Arrested After Sneaking Int...   \n",
       "2681  2682  Tensions Run High Ahead Of \"Bachelor\" Finale (...   \n",
       "2887  2888  Zac Efron Confirms He Is Eager For 'High Schoo...   \n",
       "2893  2894  Zac Efron - Zac Efron Open To High School Musi...   \n",
       "2917  2918  Zac Efron - Zac Efron 'thinking about' High Sc...   \n",
       "2931  2932  SXSW Highlights: \"Chef\", \"Neighbors\" And \"Vero...   \n",
       "3155  3156  Girls - Lena Dunham Calls Out Hollywood Sexism...   \n",
       "3165  3166  The Critics Have Their Say On Lena Dunham Host...   \n",
       "3208  3209  Was That Molestation Joke Lena Dunham's First ...   \n",
       "3237  3238  Lena Dunham - Lena Dunham Apologises For Moles...   \n",
       "3246  3247  Girls Meets Genesis In Lena Dunham's Best SNL ...   \n",
       "3263  3264  Lena Dunham - Lena Dunham parties with Taylor ...   \n",
       "3303  3304          Lena Dunham Goes All Old Testament On SNL   \n",
       "3337  3338  Neil Young - Neil Young To Unveil Pono Music S...   \n",
       "3406  3407  What To Expect From Jon Favreau's New Movie 'C...   \n",
       "3408  3409  'Chef' Is A Double Passion Project for Jon Fav...   \n",
       "3438  3439  Jon Favreau Talks New Movie, Also Scarlett Joh...   \n",
       "3452  3453  Jon Favreau - Jon Favreau: Scarlett Johansson ...   \n",
       "3484  3485    Justin Bieber - Justin Bieber can't be 'broken'   \n",
       "3524  3525  Selena Gomez And Justin Bieber Dance It Out, B...   \n",
       "3574  3575  Justin Bieber Blasts Lawyer For Asking About S...   \n",
       "3607  3608  Reunited And It Feels So Good: Justin Bieber A...   \n",
       "3608  3609  Justin Bieber - Justin Bieber dedicates song t...   \n",
       "3619  3620  Selena Gomez - Selena Gomez' parents 'vehement...   \n",
       "3653  3654  Stacy Keibler And Jared Pobre's Wedding Was Ke...   \n",
       "...    ...                                                ...   \n",
       "3991  3992  Miley Cyrus Forced To Perform In Underwear Due...   \n",
       "4017  4018     Miley Cyrus - Miley Cyrus performs in 'undies'   \n",
       "4041  4042  Miley Cyrus - Miley Cyrus Performs In Her Unde...   \n",
       "4199  4200  Beyonce - Beyonce Fronts New Campaign For Girl...   \n",
       "6219  6220  Shailene Woodley Reavels She \"Might Have\" Hook...   \n",
       "6226  6227  Home > Shailene Woodley > Shailene Woodley Hoo...   \n",
       "6267  6268  Shailene Woodley. - Shailene Woodley feels fre...   \n",
       "6329  6330  First Look At The Flash's Costume: Grant Gusti...   \n",
       "6385  6386  Keith Richards - Keith Richards writes childre...   \n",
       "6387  6388  The Rolling Stones' Keith Richards Will Write ...   \n",
       "6409  6410  Keith Richards - Keith Richards Releasing Chil...   \n",
       "6419  6420  Keith Richards Writes Children's Book With Dau...   \n",
       "6482  6483  'Noah': Mixed Signals in Mexico, Strong Start ...   \n",
       "6508  6509  'Noah' Movie Makes First Waves In Mexico Despi...   \n",
       "6537  6538  Who Joined Taylor Swift in Billboard's List of...   \n",
       "6550  6551  Taylor Swift Named Billboard's Biggest Earner ...   \n",
       "6602  6603  Home > Justin Bieber > Justin Bieber Sends Sel...   \n",
       "6716  6717  Justin Bieber - Justin Bieber And Selena Gomez...   \n",
       "6750  6751  Justin Bieber - Justin Bieber Dedicates Song T...   \n",
       "7049  7050          Lena Dunham - Lena Dunham may quit acting   \n",
       "7056  7057  Lena Dunham May Leave Acting After HBO's 'Girl...   \n",
       "7100  7101  Lena Dunham At SXSW - A Case Study In Not Hati...   \n",
       "7116  7117  Anne Sweeney Walks Away From Disney/ABC To Bec...   \n",
       "7201  7202  Lindsay Lohan - Lindsay Lohan partied hard at ...   \n",
       "7204  7205  Lukewarm Ratings For \"Lindsay\" Give OWN Much N...   \n",
       "7524  7525   Is 'Mad Men' Planning a 'Sopranos' Style Ending?   \n",
       "7539  7540  Claire Holt Leaves 'The Originals' Before Conc...   \n",
       "7541  7542     Claire Holt - Claire Holt Leaves The Originals   \n",
       "7580  7581  Neil Young Crowdfunding Alernative To The Ipod...   \n",
       "7587  7588  Neil Young - Neil Young Calls On Big Name Pals...   \n",
       "\n",
       "                                                    URL         PUBLISHER  \\\n",
       "2274  http://www.contactmusic.com/article/game-of-th...  Contactmusic.com   \n",
       "2420  http://www.contactmusic.com/story/lindsay-loha...  Contactmusic.com   \n",
       "2428  http://www.contactmusic.com/article/lindsay-lo...  Contactmusic.com   \n",
       "2455  http://www.contactmusic.com/article/miley-cyru...  Contactmusic.com   \n",
       "2470  http://www.contactmusic.com/story/miley-cyrus-...  Contactmusic.com   \n",
       "2473  http://www.contactmusic.com/story/teen-arreste...  Contactmusic.com   \n",
       "2681  http://www.contactmusic.com/article/the-bachel...  Contactmusic.com   \n",
       "2887  http://www.contactmusic.com/article/zac-efron-...  Contactmusic.com   \n",
       "2893  http://www.contactmusic.com/story/zac-efron-op...  Contactmusic.com   \n",
       "2917  http://www.contactmusic.com/story/zac-efron-th...  Contactmusic.com   \n",
       "2931  http://www.contactmusic.com/article/sxsw-highl...  Contactmusic.com   \n",
       "3155  http://www.contactmusic.com/story/lena-dunham-...  Contactmusic.com   \n",
       "3165  http://www.contactmusic.com/article/critics-re...  Contactmusic.com   \n",
       "3208  http://www.contactmusic.com/article/lena-dunha...  Contactmusic.com   \n",
       "3237  http://www.contactmusic.com/story/lena-dunham-...  Contactmusic.com   \n",
       "3246  http://www.contactmusic.com/article/lena-dunha...  Contactmusic.com   \n",
       "3263  http://www.contactmusic.com/story/lena-dunham-...  Contactmusic.com   \n",
       "3303  http://www.contactmusic.com/article/lena-dunha...  Contactmusic.com   \n",
       "3337  http://www.contactmusic.com/story/neil-young-t...  Contactmusic.com   \n",
       "3406  http://www.contactmusic.com/in-depth/jon-favre...  Contactmusic.com   \n",
       "3408  http://www.contactmusic.com/article/jon-favrea...  Contactmusic.com   \n",
       "3438  http://www.contactmusic.com/article/scarlett-j...  Contactmusic.com   \n",
       "3452  http://www.contactmusic.com/story/jon-favreau-...  Contactmusic.com   \n",
       "3484  http://www.contactmusic.com/story/justin-biebe...  Contactmusic.com   \n",
       "3524  http://www.contactmusic.com/article/selena-gom...  Contactmusic.com   \n",
       "3574  http://www.contactmusic.com/article/justin-bie...  Contactmusic.com   \n",
       "3607  http://www.contactmusic.com/article/selena-gom...  Contactmusic.com   \n",
       "3608  http://www.contactmusic.com/story/justin-biebe...  Contactmusic.com   \n",
       "3619  http://www.contactmusic.com/story/selena-gomez...  Contactmusic.com   \n",
       "3653  http://www.contactmusic.com/article/stacy-keib...  Contactmusic.com   \n",
       "...                                                 ...               ...   \n",
       "3991  http://www.contactmusic.com/article/miley-cyru...  Contactmusic.com   \n",
       "4017  http://www.contactmusic.com/story/miley-cyrus-...  Contactmusic.com   \n",
       "4041  http://www.contactmusic.com/story/miley-cyrus-...  Contactmusic.com   \n",
       "4199  http://www.contactmusic.com/story/beyonce-fron...  Contactmusic.com   \n",
       "6219  http://www.contactmusic.com/article/shailene-w...  Contactmusic.com   \n",
       "6226  http://www.contactmusic.com/story/shailene-woo...  Contactmusic.com   \n",
       "6267  http://www.contactmusic.com/story/shailene-woo...  Contactmusic.com   \n",
       "6329  http://www.contactmusic.com/article/grant-gust...  Contactmusic.com   \n",
       "6385  http://www.contactmusic.com/story/keith-richar...  Contactmusic.com   \n",
       "6387  http://www.contactmusic.com/article/the-rollin...  Contactmusic.com   \n",
       "6409  http://www.contactmusic.com/story/keith-richar...  Contactmusic.com   \n",
       "6419  http://www.contactmusic.com/article/keith-rich...  Contactmusic.com   \n",
       "6482  http://www.contactmusic.com/article/noah-movie...  Contactmusic.com   \n",
       "6508  http://www.contactmusic.com/article/noah-movie...  Contactmusic.com   \n",
       "6537  http://www.contactmusic.com/in-depth/top-billb...  Contactmusic.com   \n",
       "6550  http://www.contactmusic.com/article/taylor-swi...  Contactmusic.com   \n",
       "6602  http://www.contactmusic.com/story/justin-biebe...  Contactmusic.com   \n",
       "6716  http://www.contactmusic.com/story/justin-biebe...  Contactmusic.com   \n",
       "6750  http://www.contactmusic.com/story/justin-biebe...  Contactmusic.com   \n",
       "7049  http://www.contactmusic.com/story/lena-dunham-...  Contactmusic.com   \n",
       "7056  http://www.contactmusic.com/article/lena-dunha...  Contactmusic.com   \n",
       "7100  http://www.contactmusic.com/article/lena-dunha...  Contactmusic.com   \n",
       "7116  http://www.contactmusic.com/article/anne-sween...  Contactmusic.com   \n",
       "7201  http://www.contactmusic.com/story/lindsay-loha...  Contactmusic.com   \n",
       "7204  http://www.contactmusic.com/article/lindsay-lo...  Contactmusic.com   \n",
       "7524  http://www.contactmusic.com/article/mad-men-se...  Contactmusic.com   \n",
       "7539  http://www.contactmusic.com/article/claire-hol...  Contactmusic.com   \n",
       "7541  http://www.contactmusic.com/story/claire-holt-...  Contactmusic.com   \n",
       "7580  http://www.contactmusic.com/article/neil-young...  Contactmusic.com   \n",
       "7587  http://www.contactmusic.com/story/neil-young-c...  Contactmusic.com   \n",
       "\n",
       "     CATEGORY                          STORY              HOSTNAME  \\\n",
       "2274        e  doklLt-bdL5ggOMQ_e6SbdaJYJr5M  www.contactmusic.com   \n",
       "2420        e  d-j0NxvRU7t3t8M-vJ--LXhVdVkvM  www.contactmusic.com   \n",
       "2428        e  d-j0NxvRU7t3t8M-vJ--LXhVdVkvM  www.contactmusic.com   \n",
       "2455        e  dQ7mGX5Q5MsdjmMycY3sCTlY_y57M  www.contactmusic.com   \n",
       "2470        e  dQ7mGX5Q5MsdjmMycY3sCTlY_y57M  www.contactmusic.com   \n",
       "2473        e  dQ7mGX5Q5MsdjmMycY3sCTlY_y57M  www.contactmusic.com   \n",
       "2681        e  dHmpog6unxaYYaMzYMEdbkeDeB9iM  www.contactmusic.com   \n",
       "2887        e  dEwcrt6LPSpnQZMj6PUU87nPXmo7M  www.contactmusic.com   \n",
       "2893        e  dEwcrt6LPSpnQZMj6PUU87nPXmo7M  www.contactmusic.com   \n",
       "2917        e  dEwcrt6LPSpnQZMj6PUU87nPXmo7M  www.contactmusic.com   \n",
       "2931        e  dEwcrt6LPSpnQZMj6PUU87nPXmo7M  www.contactmusic.com   \n",
       "3155        e  dIAUryHj5P5xMKMj_WJbFcAQncTbM  www.contactmusic.com   \n",
       "3165        e  dIAUryHj5P5xMKMj_WJbFcAQncTbM  www.contactmusic.com   \n",
       "3208        e  dIAUryHj5P5xMKMj_WJbFcAQncTbM  www.contactmusic.com   \n",
       "3237        e  dIAUryHj5P5xMKMj_WJbFcAQncTbM  www.contactmusic.com   \n",
       "3246        e  dIAUryHj5P5xMKMj_WJbFcAQncTbM  www.contactmusic.com   \n",
       "3263        e  dIAUryHj5P5xMKMj_WJbFcAQncTbM  www.contactmusic.com   \n",
       "3303        e  dIAUryHj5P5xMKMj_WJbFcAQncTbM  www.contactmusic.com   \n",
       "3337        e  dySYl91T1BpO-NM0mbKWEsHDcxedM  www.contactmusic.com   \n",
       "3406        e  dcIVq7irVOe0J0M7GejS54hesarSM  www.contactmusic.com   \n",
       "3408        e  dcIVq7irVOe0J0M7GejS54hesarSM  www.contactmusic.com   \n",
       "3438        e  dcIVq7irVOe0J0M7GejS54hesarSM  www.contactmusic.com   \n",
       "3452        e  dcIVq7irVOe0J0M7GejS54hesarSM  www.contactmusic.com   \n",
       "3484        e  dCxvbre5Du4-F-MroYv-rcXZ19RtM  www.contactmusic.com   \n",
       "3524        e  dCxvbre5Du4-F-MroYv-rcXZ19RtM  www.contactmusic.com   \n",
       "3574        e  dCxvbre5Du4-F-MroYv-rcXZ19RtM  www.contactmusic.com   \n",
       "3607        e  dCxvbre5Du4-F-MroYv-rcXZ19RtM  www.contactmusic.com   \n",
       "3608        e  dCxvbre5Du4-F-MroYv-rcXZ19RtM  www.contactmusic.com   \n",
       "3619        e  dCxvbre5Du4-F-MroYv-rcXZ19RtM  www.contactmusic.com   \n",
       "3653        e  dhkRgwm8w7ydmEMc5T-ETIrrC4TAM  www.contactmusic.com   \n",
       "...       ...                            ...                   ...   \n",
       "3991        e  dtWjQeJMt6t4cYMfY05dyzFJkdO-M  www.contactmusic.com   \n",
       "4017        e  dtWjQeJMt6t4cYMfY05dyzFJkdO-M  www.contactmusic.com   \n",
       "4041        e  dtWjQeJMt6t4cYMfY05dyzFJkdO-M  www.contactmusic.com   \n",
       "4199        e  dSg2r49OAZjxU0MKNazc_QdiwDkOM  www.contactmusic.com   \n",
       "6219        e  ddfEq1wKc7iCzGMvYSy_ekodamTeM  www.contactmusic.com   \n",
       "6226        e  ddfEq1wKc7iCzGMvYSy_ekodamTeM  www.contactmusic.com   \n",
       "6267        e  ddfEq1wKc7iCzGMvYSy_ekodamTeM  www.contactmusic.com   \n",
       "6329        e  dhEMwa0MwoR1WhMbGqJ5FLoTnr5nM  www.contactmusic.com   \n",
       "6385        e  dGnQI7Y3VNeqqJMKzJxMVIUO5czAM  www.contactmusic.com   \n",
       "6387        e  dGnQI7Y3VNeqqJMKzJxMVIUO5czAM  www.contactmusic.com   \n",
       "6409        e  dGnQI7Y3VNeqqJMKzJxMVIUO5czAM  www.contactmusic.com   \n",
       "6419        e  dGnQI7Y3VNeqqJMKzJxMVIUO5czAM  www.contactmusic.com   \n",
       "6482        e  dIhuBamtWx3sP3MFwyNPkbnPObgsM  www.contactmusic.com   \n",
       "6508        e  dIhuBamtWx3sP3MFwyNPkbnPObgsM  www.contactmusic.com   \n",
       "6537        e  dvKMWGupqCUpJGMxZrmTBv0NjcOlM  www.contactmusic.com   \n",
       "6550        e  dvKMWGupqCUpJGMxZrmTBv0NjcOlM  www.contactmusic.com   \n",
       "6602        e  d--MozT4MsoFfIMgKu5_N58OF_f9M  www.contactmusic.com   \n",
       "6716        e  d--MozT4MsoFfIMgKu5_N58OF_f9M  www.contactmusic.com   \n",
       "6750        e  d--MozT4MsoFfIMgKu5_N58OF_f9M  www.contactmusic.com   \n",
       "7049        e  dTafwmkAOEOrtWMEXDfTIXJmrzRyM  www.contactmusic.com   \n",
       "7056        e  dTafwmkAOEOrtWMEXDfTIXJmrzRyM  www.contactmusic.com   \n",
       "7100        e  dTafwmkAOEOrtWMEXDfTIXJmrzRyM  www.contactmusic.com   \n",
       "7116        e  d1wswDkKstIgRoMxbwiPrCz_D2rjM  www.contactmusic.com   \n",
       "7201        e  dVcOVvQS4nyFbZMdbG6l3mHo7EVkM  www.contactmusic.com   \n",
       "7204        e  dVcOVvQS4nyFbZMdbG6l3mHo7EVkM  www.contactmusic.com   \n",
       "7524        e  diHsEtjZgidEz_M6R42gBLNM8v-GM  www.contactmusic.com   \n",
       "7539        e  df68Lw8srt0UIgMSNaRsN-qnNSamM  www.contactmusic.com   \n",
       "7541        e  df68Lw8srt0UIgMSNaRsN-qnNSamM  www.contactmusic.com   \n",
       "7580        e  d4PJFa1co3Mku-MxjwCHHW7xLx1pM  www.contactmusic.com   \n",
       "7587        e  d4PJFa1co3Mku-MxjwCHHW7xLx1pM  www.contactmusic.com   \n",
       "\n",
       "         TIMESTAMP  \n",
       "2274  1.394520e+12  \n",
       "2420  1.394520e+12  \n",
       "2428  1.394520e+12  \n",
       "2455  1.394520e+12  \n",
       "2470  1.394520e+12  \n",
       "2473  1.394520e+12  \n",
       "2681  1.394530e+12  \n",
       "2887  1.394530e+12  \n",
       "2893  1.394530e+12  \n",
       "2917  1.394530e+12  \n",
       "2931  1.394530e+12  \n",
       "3155  1.394530e+12  \n",
       "3165  1.394530e+12  \n",
       "3208  1.394530e+12  \n",
       "3237  1.394530e+12  \n",
       "3246  1.394530e+12  \n",
       "3263  1.394530e+12  \n",
       "3303  1.394530e+12  \n",
       "3337  1.394540e+12  \n",
       "3406  1.394540e+12  \n",
       "3408  1.394540e+12  \n",
       "3438  1.394540e+12  \n",
       "3452  1.394540e+12  \n",
       "3484  1.394540e+12  \n",
       "3524  1.394540e+12  \n",
       "3574  1.394540e+12  \n",
       "3607  1.394540e+12  \n",
       "3608  1.394540e+12  \n",
       "3619  1.394540e+12  \n",
       "3653  1.394540e+12  \n",
       "...            ...  \n",
       "3991  1.394540e+12  \n",
       "4017  1.394540e+12  \n",
       "4041  1.394540e+12  \n",
       "4199  1.394550e+12  \n",
       "6219  1.394600e+12  \n",
       "6226  1.394600e+12  \n",
       "6267  1.394600e+12  \n",
       "6329  1.394600e+12  \n",
       "6385  1.394600e+12  \n",
       "6387  1.394600e+12  \n",
       "6409  1.394600e+12  \n",
       "6419  1.394600e+12  \n",
       "6482  1.394600e+12  \n",
       "6508  1.394600e+12  \n",
       "6537  1.394600e+12  \n",
       "6550  1.394600e+12  \n",
       "6602  1.394600e+12  \n",
       "6716  1.394600e+12  \n",
       "6750  1.394600e+12  \n",
       "7049  1.394620e+12  \n",
       "7056  1.394620e+12  \n",
       "7100  1.394620e+12  \n",
       "7116  1.394620e+12  \n",
       "7201  1.394620e+12  \n",
       "7204  1.394620e+12  \n",
       "7524  1.394620e+12  \n",
       "7539  1.394620e+12  \n",
       "7541  1.394620e+12  \n",
       "7580  1.394620e+12  \n",
       "7587  1.394620e+12  \n",
       "\n",
       "[70 rows x 8 columns]"
      ]
     },
     "execution_count": 6,
     "metadata": {},
     "output_type": "execute_result"
    }
   ],
   "source": [
    "dataset['CATEGORY'].unique()\n",
    "s = dataset['HOSTNAME'].value_counts()\n",
    "print(s.keys())\n",
    "target_website = dataset.loc[dataset['HOSTNAME'].isin([r'www.contactmusic.com'])]\n",
    "target_website\n",
    "# item = (target_website.loc[dataset['ID'].isin(['8732'])])\n",
    "# print(item)\n",
    "# reuters = dataset.loc[dataset['PUBLISHER'].isin([r'Reuters'])]\n",
    "# reuters = reuters.assign(C=\"\")\n",
    "# reuters.head()"
   ]
  },
  {
   "cell_type": "code",
   "execution_count": 7,
   "metadata": {
    "_cell_guid": "429356f1-f83d-8f66-bf26-559143c83ca6",
    "_uuid": "6d48402d068ebdf764509b89b6edf52d44a9068c"
   },
   "outputs": [
    {
     "data": {
      "image/png": "[encoded data removed]",
      "text/plain": [
       "<matplotlib.figure.Figure at 0xe19b410>"
      ]
     },
     "metadata": {
      "image/png": {
       "height": 461,
       "width": 380
      }
     },
     "output_type": "display_data"
    }
   ],
   "source": [
    "dataset['HOSTNAME'].value_counts().plot(kind=\"bar\")\n",
    "plt.show()"
   ]
  },
  {
   "cell_type": "code",
   "execution_count": 8,
   "metadata": {
    "_cell_guid": "c3f08e3b-8c4b-5bc2-84b9-d1c9490cd03d",
    "_uuid": "bc7ec079986333fc3b46ad1430a0cead0bf0dfe0",
    "collapsed": true
   },
   "outputs": [],
   "source": [
    "import re\n",
    "import string\n",
    "\n",
    "def clean_text(s):\n",
    "    s = s.lower()\n",
    "    for ch in string.punctuation:                                                                                                     \n",
    "        s = s.replace(ch, \" \") \n",
    "    s = re.sub(\"[0-9]+\", \"||DIG||\",s)\n",
    "    s = re.sub(' +',' ', s)        \n",
    "    return s\n",
    "\n",
    "dataset['TEXT'] = [clean_text(s) for s in dataset['TITLE']]"
   ]
  },
  {
   "cell_type": "markdown",
   "metadata": {
    "_cell_guid": "0083f581-5c81-8b86-e754-e6ad1f48f6f8",
    "_uuid": "3d1fbe5bed0e932b56d6c0ebfa5303ea1bd2bd3a"
   },
   "source": [
    "## Naive bayes model"
   ]
  },
  {
   "cell_type": "code",
   "execution_count": 16,
   "metadata": {
    "_cell_guid": "b57168e7-b80a-f986-d442-4071581d438d",
    "_uuid": "59f91fbcf8b6433c0c00b474e5cf92e1f7c0abc8",
    "scrolled": true
   },
   "outputs": [
    {
     "name": "stdout",
     "output_type": "stream",
     "text": [
      "(8000, 8100)\n",
      "(8000,)\n",
      "(2000, 8100)\n",
      "(2000,)\n"
     ]
    }
   ],
   "source": [
    "from sklearn.feature_extraction.text import CountVectorizer\n",
    "from sklearn.feature_extraction.text import TfidfVectorizer, TfidfTransformer\n",
    "from sklearn.preprocessing import LabelEncoder\n",
    "from sklearn.naive_bayes import MultinomialNB\n",
    "from sklearn.model_selection import train_test_split\n",
    "from sklearn.metrics import confusion_matrix\n",
    "from sklearn.metrics import classification_report\n",
    "from sklearn.model_selection import cross_val_score\n",
    "\n",
    "# pull the data into vectors\n",
    "vectorizer = CountVectorizer()\n",
    "x = vectorizer.fit_transform(dataset['TEXT'])\n",
    "\n",
    "# for Tfidf (we have tried and the results aren't better)\n",
    "#tfidf = TfidfVectorizer()\n",
    "#x = tfidf.fit_transform(dataset['TEXT'].values)\n",
    "\n",
    "encoder = LabelEncoder()\n",
    "data_china=dataset[(dataset['TITLE'].str.contains('China')) & dataset['CATEGORY'].str.contains('b')]\n",
    "y = encoder.fit_transform(dataset['CATEGORY'].str.contains('b'))\n",
    "\n",
    "# split into train and test sets\n",
    "x_train, x_test, y_train, y_test = train_test_split(x, y, test_size=0.2)\n",
    "\n",
    "# take a look at the shape of each of these\n",
    "print(x_train.shape)\n",
    "print(y_train.shape)\n",
    "print(x_test.shape)\n",
    "print(y_test.shape)"
   ]
  },
  {
   "cell_type": "code",
   "execution_count": 79,
   "metadata": {
    "_cell_guid": "019ea10b-caef-5fba-9ba7-47a4720ec2a1",
    "_uuid": "0a7288eac0776858e315edf521aa1eb7adb7d1e2"
   },
   "outputs": [
    {
     "name": "stdout",
     "output_type": "stream",
     "text": [
      "Wall time: 7 ms\n"
     ]
    }
   ],
   "source": [
    "%%time \n",
    "\n",
    "nb = MultinomialNB()\n",
    "nb.fit(x_train, y_train)"
   ]
  },
  {
   "cell_type": "markdown",
   "metadata": {
    "_cell_guid": "d81c00f9-024b-ac00-5ea1-ed37db42a76b",
    "_uuid": "776019f599b2f42b4e998d23e8a3271b7921e872"
   },
   "source": [
    "Let's see cross validation:"
   ]
  },
  {
   "cell_type": "code",
   "execution_count": 80,
   "metadata": {
    "_cell_guid": "8353cc3e-c980-300d-adb6-a5b40c58f154",
    "_uuid": "ee0fb8f01949935a949554cb4d86f7ec2b059bd1"
   },
   "outputs": [
    {
     "name": "stdout",
     "output_type": "stream",
     "text": [
      "0.950372949475\n",
      "Wall time: 110 ms\n"
     ]
    }
   ],
   "source": [
    "%%time\n",
    "\n",
    "results_nb_cv = cross_val_score(nb, x_train, y_train, cv=10)\n",
    "print(results_nb_cv.mean())"
   ]
  },
  {
   "cell_type": "markdown",
   "metadata": {
    "_cell_guid": "01bc622d-a5d9-f1e2-43df-526c889f4301",
    "_uuid": "a15358e87bdb85962e14821e2a3d0423183a3841"
   },
   "source": [
    "Test data accuracy is very near to cross validation accuracy which is ok:"
   ]
  },
  {
   "cell_type": "code",
   "execution_count": 81,
   "metadata": {
    "_cell_guid": "4d1807d3-3355-3232-5560-67bd89bd225c",
    "_uuid": "5b7686d8f062b66c167db7994de23cb5e881714b"
   },
   "outputs": [
    {
     "data": {
      "text/plain": [
       "0.94399999999999995"
      ]
     },
     "execution_count": 81,
     "metadata": {},
     "output_type": "execute_result"
    }
   ],
   "source": [
    "nb.score(x_test, y_test)"
   ]
  },
  {
   "cell_type": "code",
   "execution_count": 82,
   "metadata": {
    "_cell_guid": "c928ead3-44a7-b62b-d33b-93f67105ef7c",
    "_uuid": "352365fbfc50339dfc8c96d46d687d03640cf225"
   },
   "outputs": [
    {
     "data": {
      "text/plain": [
       "array([[626,   8,   3,  41],\n",
       "       [  6, 694,   2,   4],\n",
       "       [ 10,   1, 154,   5],\n",
       "       [ 24,   4,   4, 414]], dtype=int64)"
      ]
     },
     "execution_count": 82,
     "metadata": {},
     "output_type": "execute_result"
    }
   ],
   "source": [
    "x_test_pred = nb.predict(x_test)\n",
    "confusion_matrix(y_test, x_test_pred)"
   ]
  },
  {
   "cell_type": "code",
   "execution_count": 83,
   "metadata": {
    "_cell_guid": "0812f4a2-1ddd-aeac-f906-5b8582b3c836",
    "_uuid": "ca97567b2756c89794fa8cf6dc4a9f9c0332b15a"
   },
   "outputs": [
    {
     "name": "stdout",
     "output_type": "stream",
     "text": [
      "             precision    recall  f1-score   support\n",
      "\n",
      "          b       0.94      0.92      0.93       678\n",
      "          e       0.98      0.98      0.98       706\n",
      "          m       0.94      0.91      0.92       170\n",
      "          t       0.89      0.93      0.91       446\n",
      "\n",
      "avg / total       0.94      0.94      0.94      2000\n",
      "\n"
     ]
    }
   ],
   "source": [
    "print(classification_report(y_test, x_test_pred, target_names=encoder.classes_))"
   ]
  },
  {
   "cell_type": "markdown",
   "metadata": {
    "_cell_guid": "7bb19b15-b139-9046-28ff-9beab4cd090e",
    "_uuid": "565059a6931e061d8254b62ba960b9e5cbebb439"
   },
   "source": [
    "Function to predict category from a direct tittle:"
   ]
  },
  {
   "cell_type": "code",
   "execution_count": 84,
   "metadata": {
    "_cell_guid": "63618516-a89e-88d3-ed2c-256b40cbf934",
    "_uuid": "e7e630171adac8c9d3df1f0de385564d9b7248ef",
    "collapsed": true
   },
   "outputs": [],
   "source": [
    "def predict_cat(title):\n",
    "    cat_names = {'b' : 'business', 't' : 'science and technology', 'e' : 'entertainment', 'm' : 'health'}\n",
    "    cod = nb.predict(vectorizer.transform([title]))\n",
    "    return cat_names[encoder.inverse_transform(cod)[0]]"
   ]
  },
  {
   "cell_type": "code",
   "execution_count": 85,
   "metadata": {
    "_cell_guid": "fa78f38e-ba92-ffb0-0021-f5eeffb3b67b",
    "_kg_hide-output": true,
    "_uuid": "9ce33f4a8df129581557ba42fb20fecd976c3a2b"
   },
   "outputs": [
    {
     "data": {
      "text/plain": [
       "'entertainment'"
      ]
     },
     "execution_count": 85,
     "metadata": {},
     "output_type": "execute_result"
    }
   ],
   "source": [
    "predict_cat(\"hospital the a of for \")"
   ]
  },
  {
   "cell_type": "markdown",
   "metadata": {
    "_cell_guid": "c3fe658c-9257-d419-9449-c785bed0ba47",
    "_uuid": "44580e55010c69883dceb9159e69c63a057f9682"
   },
   "source": [
    "## Logistic regression model"
   ]
  },
  {
   "cell_type": "code",
   "execution_count": 86,
   "metadata": {
    "_cell_guid": "edc50ba9-aa37-5eea-6ea2-473901cdb4e7",
    "_uuid": "b828c7af7687db592dba031be57b52b8dbfd8cef"
   },
   "outputs": [
    {
     "name": "stdout",
     "output_type": "stream",
     "text": [
      "Accuracy: 0.9555\n",
      "Wall time: 361 ms\n"
     ]
    }
   ],
   "source": [
    "%%time \n",
    "\n",
    "from sklearn.linear_model import LogisticRegression\n",
    "from sklearn.multiclass import OneVsRestClassifier\n",
    "\n",
    "# Instantiate the classifier: clf\n",
    "clf = OneVsRestClassifier(LogisticRegression())\n",
    "\n",
    "# Fit the classifier to the training data\n",
    "clf.fit(x_train, y_train)\n",
    "\n",
    "# Print the accuracy\n",
    "print(\"Accuracy: {}\".format(clf.score(x_test, y_test)))"
   ]
  },
  {
   "cell_type": "markdown",
   "metadata": {
    "_cell_guid": "834f47af-6042-0793-c3c1-4ad4f1acf0bf",
    "_uuid": "2e8dde27884f4dfc36693e92526b4aed199cbc3a"
   },
   "source": [
    "Let's see cross validation accuracy. It took a lot and killed the kernel, so we omit here. The result was very close to the previous test data accuracy"
   ]
  },
  {
   "cell_type": "code",
   "execution_count": 87,
   "metadata": {
    "_cell_guid": "b2aa6e21-6521-f375-2400-d1c7104a93da",
    "_uuid": "2bf9037cb87863cb87d1cae6055f10d927316ef9",
    "collapsed": true
   },
   "outputs": [],
   "source": [
    "#%%time\n",
    "\n",
    "#results_clf_cv = cross_val_score(clf, x_train, y_train, cv=10)\n",
    "#print(results_clf_cv.mean())"
   ]
  },
  {
   "cell_type": "code",
   "execution_count": 88,
   "metadata": {
    "_cell_guid": "12245c1c-71ef-f725-d485-75a2373e3700",
    "_uuid": "a508b8cc9359fb92e514cc4cbcd517255d63bb15"
   },
   "outputs": [
    {
     "data": {
      "text/plain": [
       "array([[653,   3,   0,  22],\n",
       "       [ 11, 691,   1,   3],\n",
       "       [ 13,   1, 155,   1],\n",
       "       [ 29,   5,   0, 412]], dtype=int64)"
      ]
     },
     "execution_count": 88,
     "metadata": {},
     "output_type": "execute_result"
    }
   ],
   "source": [
    "x_test_clv_pred = clf.predict(x_test)\n",
    "confusion_matrix(y_test, x_test_clv_pred)"
   ]
  },
  {
   "cell_type": "code",
   "execution_count": 89,
   "metadata": {
    "_cell_guid": "85e2029e-cda6-501f-8cf6-e57a9959c92b",
    "_uuid": "cc10961dfe6eda7636edeb5e189a4a2c91495a9f"
   },
   "outputs": [
    {
     "name": "stdout",
     "output_type": "stream",
     "text": [
      "             precision    recall  f1-score   support\n",
      "\n",
      "          b       0.92      0.96      0.94       678\n",
      "          e       0.99      0.98      0.98       706\n",
      "          m       0.99      0.91      0.95       170\n",
      "          t       0.94      0.92      0.93       446\n",
      "\n",
      "avg / total       0.96      0.96      0.96      2000\n",
      "\n"
     ]
    }
   ],
   "source": [
    "print(classification_report(y_test, x_test_clv_pred, target_names=encoder.classes_))"
   ]
  },
  {
   "cell_type": "markdown",
   "metadata": {
    "_cell_guid": "481716e9-a86c-9f60-c92c-ff814eef50f2",
    "_uuid": "407c496e5d93b7db58c321fa33293dad815959c6"
   },
   "source": [
    "There is a high correlation between Logistic regression and naive bayes model."
   ]
  },
  {
   "cell_type": "code",
   "execution_count": 90,
   "metadata": {
    "_cell_guid": "d18e01ab-7b09-7f14-6d1a-b70b565f3435",
    "_uuid": "1d0304dc464aa6177737a03ece8cd4ed01bf7406"
   },
   "outputs": [
    {
     "data": {
      "text/plain": [
       "0.93702933646055286"
      ]
     },
     "execution_count": 90,
     "metadata": {},
     "output_type": "execute_result"
    }
   ],
   "source": [
    "clf_pred = clf.predict(x)\n",
    "np_pred = nb.predict(x)\n",
    "\n",
    "models_correlation = np.corrcoef(clf_pred, np_pred)\n",
    "models_correlation[0,1]"
   ]
  },
  {
   "cell_type": "markdown",
   "metadata": {
    "_cell_guid": "7ed9e3f4-93b8-1e3b-2073-aa4326be045e",
    "_uuid": "feb3e76b83225f1efb922a367e2f05ae2c76f40d"
   },
   "source": [
    "## Conclusion\n",
    "\n",
    "Naive Bayes and Logistic regression are fast and provide good accuracy.  The faster is Naive Bayes. The best accuracy is obtained with the Logistic Regression model which provides an accuracy of **0.9473** and an average f1-score of **0.95**"
   ]
  },
  {
   "cell_type": "markdown",
   "metadata": {
    "_cell_guid": "49d3ed63-8a87-69be-6964-91b13707dbcf",
    "_uuid": "f632eb39bd012f5a0aca766b798738f4cf99771a"
   },
   "source": [
    "## Reference\n",
    "\n",
    "- [Classifying News Headlines with scikit-learn](https://www.kaggle.com/kinguistics/classifying-news-headlines-with-scikit-learn)"
   ]
  },
  {
   "cell_type": "markdown",
   "metadata": {},
   "source": [
    "SVM Linear"
   ]
  },
  {
   "cell_type": "code",
   "execution_count": 91,
   "metadata": {},
   "outputs": [
    {
     "data": {
      "text/html": [
       "<div>\n",
       "<style>\n",
       "    .dataframe thead tr:only-child th {\n",
       "        text-align: right;\n",
       "    }\n",
       "\n",
       "    .dataframe thead th {\n",
       "        text-align: left;\n",
       "    }\n",
       "\n",
       "    .dataframe tbody tr th {\n",
       "        vertical-align: top;\n",
       "    }\n",
       "</style>\n",
       "<table border=\"1\" class=\"dataframe\">\n",
       "  <thead>\n",
       "    <tr style=\"text-align: right;\">\n",
       "      <th></th>\n",
       "      <th>ID</th>\n",
       "      <th>TITLE</th>\n",
       "      <th>URL</th>\n",
       "      <th>PUBLISHER</th>\n",
       "      <th>CATEGORY</th>\n",
       "      <th>STORY</th>\n",
       "      <th>HOSTNAME</th>\n",
       "      <th>TIMESTAMP</th>\n",
       "      <th>TEXT</th>\n",
       "    </tr>\n",
       "  </thead>\n",
       "  <tbody>\n",
       "    <tr>\n",
       "      <th>0</th>\n",
       "      <td>1</td>\n",
       "      <td>Fed official says weak data caused by weather,...</td>\n",
       "      <td>http://www.latimes.com/business/money/la-fi-mo...</td>\n",
       "      <td>Los Angeles Times</td>\n",
       "      <td>b</td>\n",
       "      <td>ddUyU0VZz0BRneMioxUPQVP6sIxvM</td>\n",
       "      <td>www.latimes.com</td>\n",
       "      <td>1.394470e+12</td>\n",
       "      <td>fed official says weak data caused by weather ...</td>\n",
       "    </tr>\n",
       "    <tr>\n",
       "      <th>1</th>\n",
       "      <td>2</td>\n",
       "      <td>Fed's Charles Plosser sees high bar for change...</td>\n",
       "      <td>http://www.livemint.com/Politics/H2EvwJSK2VE6O...</td>\n",
       "      <td>Livemint</td>\n",
       "      <td>b</td>\n",
       "      <td>ddUyU0VZz0BRneMioxUPQVP6sIxvM</td>\n",
       "      <td>www.livemint.com</td>\n",
       "      <td>1.394470e+12</td>\n",
       "      <td>fed s charles plosser sees high bar for change...</td>\n",
       "    </tr>\n",
       "    <tr>\n",
       "      <th>2</th>\n",
       "      <td>3</td>\n",
       "      <td>US open: Stocks fall after Fed official hints ...</td>\n",
       "      <td>http://www.ifamagazine.com/news/us-open-stocks...</td>\n",
       "      <td>IFA Magazine</td>\n",
       "      <td>b</td>\n",
       "      <td>ddUyU0VZz0BRneMioxUPQVP6sIxvM</td>\n",
       "      <td>www.ifamagazine.com</td>\n",
       "      <td>1.394470e+12</td>\n",
       "      <td>us open stocks fall after fed official hints a...</td>\n",
       "    </tr>\n",
       "    <tr>\n",
       "      <th>3</th>\n",
       "      <td>4</td>\n",
       "      <td>Fed risks falling 'behind the curve', Charles ...</td>\n",
       "      <td>http://www.ifamagazine.com/news/fed-risks-fall...</td>\n",
       "      <td>IFA Magazine</td>\n",
       "      <td>b</td>\n",
       "      <td>ddUyU0VZz0BRneMioxUPQVP6sIxvM</td>\n",
       "      <td>www.ifamagazine.com</td>\n",
       "      <td>1.394470e+12</td>\n",
       "      <td>fed risks falling behind the curve charles plo...</td>\n",
       "    </tr>\n",
       "    <tr>\n",
       "      <th>4</th>\n",
       "      <td>5</td>\n",
       "      <td>Fed's Plosser: Nasty Weather Has Curbed Job Gr...</td>\n",
       "      <td>http://www.moneynews.com/Economy/federal-reser...</td>\n",
       "      <td>Moneynews</td>\n",
       "      <td>b</td>\n",
       "      <td>ddUyU0VZz0BRneMioxUPQVP6sIxvM</td>\n",
       "      <td>www.moneynews.com</td>\n",
       "      <td>1.394470e+12</td>\n",
       "      <td>fed s plosser nasty weather has curbed job growth</td>\n",
       "    </tr>\n",
       "  </tbody>\n",
       "</table>\n",
       "</div>"
      ],
      "text/plain": [
       "   ID                                              TITLE  \\\n",
       "0   1  Fed official says weak data caused by weather,...   \n",
       "1   2  Fed's Charles Plosser sees high bar for change...   \n",
       "2   3  US open: Stocks fall after Fed official hints ...   \n",
       "3   4  Fed risks falling 'behind the curve', Charles ...   \n",
       "4   5  Fed's Plosser: Nasty Weather Has Curbed Job Gr...   \n",
       "\n",
       "                                                 URL          PUBLISHER  \\\n",
       "0  http://www.latimes.com/business/money/la-fi-mo...  Los Angeles Times   \n",
       "1  http://www.livemint.com/Politics/H2EvwJSK2VE6O...           Livemint   \n",
       "2  http://www.ifamagazine.com/news/us-open-stocks...       IFA Magazine   \n",
       "3  http://www.ifamagazine.com/news/fed-risks-fall...       IFA Magazine   \n",
       "4  http://www.moneynews.com/Economy/federal-reser...          Moneynews   \n",
       "\n",
       "  CATEGORY                          STORY             HOSTNAME     TIMESTAMP  \\\n",
       "0        b  ddUyU0VZz0BRneMioxUPQVP6sIxvM      www.latimes.com  1.394470e+12   \n",
       "1        b  ddUyU0VZz0BRneMioxUPQVP6sIxvM     www.livemint.com  1.394470e+12   \n",
       "2        b  ddUyU0VZz0BRneMioxUPQVP6sIxvM  www.ifamagazine.com  1.394470e+12   \n",
       "3        b  ddUyU0VZz0BRneMioxUPQVP6sIxvM  www.ifamagazine.com  1.394470e+12   \n",
       "4        b  ddUyU0VZz0BRneMioxUPQVP6sIxvM    www.moneynews.com  1.394470e+12   \n",
       "\n",
       "                                                TEXT  \n",
       "0  fed official says weak data caused by weather ...  \n",
       "1  fed s charles plosser sees high bar for change...  \n",
       "2  us open stocks fall after fed official hints a...  \n",
       "3  fed risks falling behind the curve charles plo...  \n",
       "4  fed s plosser nasty weather has curbed job growth  "
      ]
     },
     "execution_count": 91,
     "metadata": {},
     "output_type": "execute_result"
    }
   ],
   "source": [
    "dataset.head()"
   ]
  },
  {
   "cell_type": "code",
   "execution_count": 92,
   "metadata": {
    "collapsed": true
   },
   "outputs": [],
   "source": [
    "X_raw, y = dataset['TITLE'], dataset['CATEGORY']"
   ]
  },
  {
   "cell_type": "code",
   "execution_count": 93,
   "metadata": {},
   "outputs": [
    {
     "data": {
      "image/png": "[encoded data removed]",
      "text/plain": [
       "<matplotlib.figure.Figure at 0xdcc2ef0>"
      ]
     },
     "metadata": {
      "image/png": {
       "height": 263,
       "width": 383
      }
     },
     "output_type": "display_data"
    }
   ],
   "source": [
    "value_counts = dict(y.value_counts())\n",
    "targets_labels = value_counts.keys()\n",
    "ind = range(len(targets_labels))\n",
    "plt.bar(ind, value_counts.values())\n",
    "plt.title(\"Categories count\")\n",
    "plt.xticks(ind, targets_labels)\n",
    "plt.show()"
   ]
  },
  {
   "cell_type": "code",
   "execution_count": 94,
   "metadata": {
    "collapsed": true
   },
   "outputs": [],
   "source": [
    "vectorizer = TfidfVectorizer(stop_words='english')\n",
    "X = vectorizer.fit_transform(X_raw)"
   ]
  },
  {
   "cell_type": "code",
   "execution_count": 95,
   "metadata": {
    "collapsed": true
   },
   "outputs": [],
   "source": [
    "X_train, X_test, y_train, y_test = train_test_split(X, y, test_size=0.2, random_state=42)"
   ]
  },
  {
   "cell_type": "code",
   "execution_count": 96,
   "metadata": {},
   "outputs": [
    {
     "data": {
      "text/plain": [
       "LinearSVC(C=1.0, class_weight=None, dual=True, fit_intercept=True,\n",
       "     intercept_scaling=1, loss='squared_hinge', max_iter=1000,\n",
       "     multi_class='ovr', penalty='l2', random_state=None, tol=0.0001,\n",
       "     verbose=0)"
      ]
     },
     "execution_count": 96,
     "metadata": {},
     "output_type": "execute_result"
    }
   ],
   "source": [
    "clf = LinearSVC()\n",
    "clf.fit(X_train, y_train)"
   ]
  },
  {
   "cell_type": "code",
   "execution_count": 97,
   "metadata": {
    "collapsed": true
   },
   "outputs": [],
   "source": [
    "y_pred = clf.predict(X_test)"
   ]
  },
  {
   "cell_type": "code",
   "execution_count": 98,
   "metadata": {},
   "outputs": [
    {
     "name": "stdout",
     "output_type": "stream",
     "text": [
      "             precision    recall  f1-score   support\n",
      "\n",
      "          b       0.91      0.97      0.94       678\n",
      "          e       0.99      0.98      0.99       695\n",
      "          m       0.99      0.95      0.97       173\n",
      "          t       0.95      0.90      0.92       454\n",
      "\n",
      "avg / total       0.96      0.95      0.95      2000\n",
      "\n"
     ]
    }
   ],
   "source": [
    "print (classification_report(y_test, y_pred))"
   ]
  },
  {
   "cell_type": "code",
   "execution_count": null,
   "metadata": {
    "collapsed": true
   },
   "outputs": [],
   "source": []
  },
  {
   "cell_type": "code",
   "execution_count": 99,
   "metadata": {},
   "outputs": [
    {
     "data": {
      "text/plain": [
       "array([[655,   4,   0,  19],\n",
       "       [ 12, 681,   1,   1],\n",
       "       [  6,   1, 165,   1],\n",
       "       [ 44,   1,   1, 408]], dtype=int64)"
      ]
     },
     "execution_count": 99,
     "metadata": {},
     "output_type": "execute_result"
    }
   ],
   "source": [
    "confusion_matrix(y_test, y_pred)"
   ]
  },
  {
   "cell_type": "code",
   "execution_count": 100,
   "metadata": {},
   "outputs": [
    {
     "data": {
      "text/plain": [
       "0.95450000000000002"
      ]
     },
     "execution_count": 100,
     "metadata": {},
     "output_type": "execute_result"
    }
   ],
   "source": [
    "\n",
    "accuracy_score(y_test, y_pred)"
   ]
  },
  {
   "cell_type": "code",
   "execution_count": null,
   "metadata": {
    "collapsed": true
   },
   "outputs": [],
   "source": []
  }
 ],
 "metadata": {
  "_change_revision": 0,
  "_is_fork": false,
  "kernelspec": {
   "display_name": "Python 3",
   "language": "python",
   "name": "python3"
  },
  "language_info": {
   "codemirror_mode": {
    "name": "ipython",
    "version": 3
   },
   "file_extension": ".py",
   "mimetype": "text/x-python",
   "name": "python",
   "nbconvert_exporter": "python",
   "pygments_lexer": "ipython3",
   "version": "3.6.3"
  }
 },
 "nbformat": 4,
 "nbformat_minor": 1
}
